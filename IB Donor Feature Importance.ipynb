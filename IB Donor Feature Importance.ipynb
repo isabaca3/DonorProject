{
 "cells": [
  {
   "cell_type": "markdown",
   "metadata": {},
   "source": [
    "### Using Permutation Importance to determine relevant features and K-Nearest Neighbors to create decision boundaries\n",
    "\n",
    "Evaluating donors dataset using sklearn's support vector machine, gridsearchcv, amd permutation importance, k-neaest neigbors, and a scatterplot of the target variable \"AdustedDonors\" in relation to Average Temperature and the consumer price index."
   ]
  },
  {
   "cell_type": "code",
   "execution_count": 93,
   "metadata": {},
   "outputs": [],
   "source": [
    "import numpy as np\n",
    "import pandas as pd\n",
    "import seaborn as sns\n",
    "import matplotlib.pyplot as plt\n",
    "from matplotlib.colors import ListedColormap\n",
    "pd.set_option(\"display.max_rows\", 10)"
   ]
  },
  {
   "cell_type": "code",
   "execution_count": 94,
   "metadata": {},
   "outputs": [],
   "source": [
    "from sklearn.preprocessing import StandardScaler\n",
    "from sklearn.svm import SVC\n",
    "from sklearn.inspection import permutation_importance\n",
    "from sklearn.model_selection import GridSearchCV, KFold\n",
    "from sklearn.neighbors import KNeighborsClassifier\n",
    "import warnings"
   ]
  },
  {
   "cell_type": "code",
   "execution_count": 95,
   "metadata": {},
   "outputs": [],
   "source": [
    "file_path = r'C:\\Users\\ibaca\\DonorByMonth.csv'\n",
    "df = pd.read_csv(file_path)"
   ]
  },
  {
   "cell_type": "code",
   "execution_count": 96,
   "metadata": {},
   "outputs": [
    {
     "data": {
      "text/html": [
       "<div>\n",
       "<style scoped>\n",
       "    .dataframe tbody tr th:only-of-type {\n",
       "        vertical-align: middle;\n",
       "    }\n",
       "\n",
       "    .dataframe tbody tr th {\n",
       "        vertical-align: top;\n",
       "    }\n",
       "\n",
       "    .dataframe thead th {\n",
       "        text-align: right;\n",
       "    }\n",
       "</style>\n",
       "<table border=\"1\" class=\"dataframe\">\n",
       "  <thead>\n",
       "    <tr style=\"text-align: right;\">\n",
       "      <th></th>\n",
       "      <th>Date</th>\n",
       "      <th>Donors</th>\n",
       "      <th>AvgTemp</th>\n",
       "      <th>CPI</th>\n",
       "      <th>Budget</th>\n",
       "      <th>Sales</th>\n",
       "      <th>NewResidentialConstruction(Thousands)</th>\n",
       "      <th>HousingUnitPermits(Thousands)</th>\n",
       "      <th>HousingUnits</th>\n",
       "      <th>Adjusted Sales</th>\n",
       "      <th>AverageContrusctionHoursWorked</th>\n",
       "      <th>NewHomeSales(Thousands)</th>\n",
       "      <th>NewHomeSales</th>\n",
       "      <th>AdjustedDonors</th>\n",
       "    </tr>\n",
       "  </thead>\n",
       "  <tbody>\n",
       "    <tr>\n",
       "      <th>0</th>\n",
       "      <td>1/1/2019</td>\n",
       "      <td>34698</td>\n",
       "      <td>35.9</td>\n",
       "      <td>251.712</td>\n",
       "      <td>1292132</td>\n",
       "      <td>1557361</td>\n",
       "      <td>1,261</td>\n",
       "      <td>87.0</td>\n",
       "      <td>87000</td>\n",
       "      <td>1557361</td>\n",
       "      <td>39.7</td>\n",
       "      <td>49</td>\n",
       "      <td>49000</td>\n",
       "      <td>34698</td>\n",
       "    </tr>\n",
       "    <tr>\n",
       "      <th>1</th>\n",
       "      <td>2/1/2019</td>\n",
       "      <td>27533</td>\n",
       "      <td>39.9</td>\n",
       "      <td>252.776</td>\n",
       "      <td>1271468</td>\n",
       "      <td>1432247</td>\n",
       "      <td>1,287</td>\n",
       "      <td>80.0</td>\n",
       "      <td>80000</td>\n",
       "      <td>1432247</td>\n",
       "      <td>38.6</td>\n",
       "      <td>57</td>\n",
       "      <td>57000</td>\n",
       "      <td>27533</td>\n",
       "    </tr>\n",
       "    <tr>\n",
       "      <th>2</th>\n",
       "      <td>3/1/2019</td>\n",
       "      <td>36468</td>\n",
       "      <td>50.2</td>\n",
       "      <td>254.202</td>\n",
       "      <td>1421717</td>\n",
       "      <td>1667795</td>\n",
       "      <td>1,305</td>\n",
       "      <td>98.2</td>\n",
       "      <td>98200</td>\n",
       "      <td>1667795</td>\n",
       "      <td>39.3</td>\n",
       "      <td>68</td>\n",
       "      <td>68000</td>\n",
       "      <td>36468</td>\n",
       "    </tr>\n",
       "    <tr>\n",
       "      <th>3</th>\n",
       "      <td>4/1/2019</td>\n",
       "      <td>32788</td>\n",
       "      <td>57.4</td>\n",
       "      <td>255.548</td>\n",
       "      <td>1348579</td>\n",
       "      <td>1530041</td>\n",
       "      <td>1,311</td>\n",
       "      <td>116.6</td>\n",
       "      <td>116600</td>\n",
       "      <td>1530041</td>\n",
       "      <td>39.0</td>\n",
       "      <td>64</td>\n",
       "      <td>64000</td>\n",
       "      <td>32788</td>\n",
       "    </tr>\n",
       "    <tr>\n",
       "      <th>4</th>\n",
       "      <td>5/1/2019</td>\n",
       "      <td>39674</td>\n",
       "      <td>61.6</td>\n",
       "      <td>256.092</td>\n",
       "      <td>1336206</td>\n",
       "      <td>1589136</td>\n",
       "      <td>1,347</td>\n",
       "      <td>118.1</td>\n",
       "      <td>118100</td>\n",
       "      <td>1589136</td>\n",
       "      <td>39.1</td>\n",
       "      <td>56</td>\n",
       "      <td>56000</td>\n",
       "      <td>39674</td>\n",
       "    </tr>\n",
       "  </tbody>\n",
       "</table>\n",
       "</div>"
      ],
      "text/plain": [
       "       Date  Donors  AvgTemp      CPI   Budget    Sales  \\\n",
       "0  1/1/2019   34698     35.9  251.712  1292132  1557361   \n",
       "1  2/1/2019   27533     39.9  252.776  1271468  1432247   \n",
       "2  3/1/2019   36468     50.2  254.202  1421717  1667795   \n",
       "3  4/1/2019   32788     57.4  255.548  1348579  1530041   \n",
       "4  5/1/2019   39674     61.6  256.092  1336206  1589136   \n",
       "\n",
       "  NewResidentialConstruction(Thousands)  HousingUnitPermits(Thousands)  \\\n",
       "0                                 1,261                           87.0   \n",
       "1                                 1,287                           80.0   \n",
       "2                                 1,305                           98.2   \n",
       "3                                 1,311                          116.6   \n",
       "4                                 1,347                          118.1   \n",
       "\n",
       "   HousingUnits  Adjusted Sales  AverageContrusctionHoursWorked  \\\n",
       "0         87000         1557361                            39.7   \n",
       "1         80000         1432247                            38.6   \n",
       "2         98200         1667795                            39.3   \n",
       "3        116600         1530041                            39.0   \n",
       "4        118100         1589136                            39.1   \n",
       "\n",
       "   NewHomeSales(Thousands)  NewHomeSales  AdjustedDonors  \n",
       "0                       49         49000           34698  \n",
       "1                       57         57000           27533  \n",
       "2                       68         68000           36468  \n",
       "3                       64         64000           32788  \n",
       "4                       56         56000           39674  "
      ]
     },
     "execution_count": 96,
     "metadata": {},
     "output_type": "execute_result"
    }
   ],
   "source": [
    "df.head()"
   ]
  },
  {
   "cell_type": "code",
   "execution_count": 171,
   "metadata": {},
   "outputs": [
    {
     "data": {
      "text/html": [
       "<div>\n",
       "<style scoped>\n",
       "    .dataframe tbody tr th:only-of-type {\n",
       "        vertical-align: middle;\n",
       "    }\n",
       "\n",
       "    .dataframe tbody tr th {\n",
       "        vertical-align: top;\n",
       "    }\n",
       "\n",
       "    .dataframe thead th {\n",
       "        text-align: right;\n",
       "    }\n",
       "</style>\n",
       "<table border=\"1\" class=\"dataframe\">\n",
       "  <thead>\n",
       "    <tr style=\"text-align: right;\">\n",
       "      <th></th>\n",
       "      <th>Donors</th>\n",
       "      <th>AvgTemp</th>\n",
       "      <th>CPI</th>\n",
       "      <th>Budget</th>\n",
       "      <th>Sales</th>\n",
       "      <th>NewResidentialConstruction(Thousands)</th>\n",
       "      <th>HousingUnitPermits(Thousands)</th>\n",
       "      <th>HousingUnits</th>\n",
       "      <th>Adjusted Sales</th>\n",
       "      <th>AverageContrusctionHoursWorked</th>\n",
       "      <th>NewHomeSales(Thousands)</th>\n",
       "      <th>NewHomeSales</th>\n",
       "      <th>AdjustedDonors</th>\n",
       "    </tr>\n",
       "  </thead>\n",
       "  <tbody>\n",
       "    <tr>\n",
       "      <th>count</th>\n",
       "      <td>60.000000</td>\n",
       "      <td>60.000000</td>\n",
       "      <td>60.000000</td>\n",
       "      <td>6.000000e+01</td>\n",
       "      <td>6.000000e+01</td>\n",
       "      <td>60.000000</td>\n",
       "      <td>60.000000</td>\n",
       "      <td>60.000000</td>\n",
       "      <td>6.000000e+01</td>\n",
       "      <td>60.000000</td>\n",
       "      <td>60.000000</td>\n",
       "      <td>60.000000</td>\n",
       "      <td>60.000000</td>\n",
       "    </tr>\n",
       "    <tr>\n",
       "      <th>mean</th>\n",
       "      <td>37985.416667</td>\n",
       "      <td>58.518333</td>\n",
       "      <td>276.558967</td>\n",
       "      <td>1.555777e+06</td>\n",
       "      <td>1.547741e+06</td>\n",
       "      <td>1560.583333</td>\n",
       "      <td>120.718333</td>\n",
       "      <td>120718.333333</td>\n",
       "      <td>1.632616e+06</td>\n",
       "      <td>38.995000</td>\n",
       "      <td>59.683333</td>\n",
       "      <td>59683.333333</td>\n",
       "      <td>38340.750000</td>\n",
       "    </tr>\n",
       "    <tr>\n",
       "      <th>std</th>\n",
       "      <td>8425.172322</td>\n",
       "      <td>15.901887</td>\n",
       "      <td>19.706264</td>\n",
       "      <td>6.530974e+05</td>\n",
       "      <td>3.132404e+05</td>\n",
       "      <td>184.596793</td>\n",
       "      <td>17.147560</td>\n",
       "      <td>17147.559906</td>\n",
       "      <td>1.275127e+05</td>\n",
       "      <td>0.306663</td>\n",
       "      <td>10.558139</td>\n",
       "      <td>10558.138746</td>\n",
       "      <td>4713.927876</td>\n",
       "    </tr>\n",
       "    <tr>\n",
       "      <th>min</th>\n",
       "      <td>0.000000</td>\n",
       "      <td>35.500000</td>\n",
       "      <td>251.712000</td>\n",
       "      <td>9.985300e+05</td>\n",
       "      <td>0.000000e+00</td>\n",
       "      <td>1066.000000</td>\n",
       "      <td>80.000000</td>\n",
       "      <td>80000.000000</td>\n",
       "      <td>1.331908e+06</td>\n",
       "      <td>38.100000</td>\n",
       "      <td>41.000000</td>\n",
       "      <td>41000.000000</td>\n",
       "      <td>27533.000000</td>\n",
       "    </tr>\n",
       "    <tr>\n",
       "      <th>25%</th>\n",
       "      <td>34810.500000</td>\n",
       "      <td>41.800000</td>\n",
       "      <td>257.927500</td>\n",
       "      <td>1.196114e+06</td>\n",
       "      <td>1.519848e+06</td>\n",
       "      <td>1449.000000</td>\n",
       "      <td>112.725000</td>\n",
       "      <td>112725.000000</td>\n",
       "      <td>1.554540e+06</td>\n",
       "      <td>38.875000</td>\n",
       "      <td>52.000000</td>\n",
       "      <td>52000.000000</td>\n",
       "      <td>35148.000000</td>\n",
       "    </tr>\n",
       "    <tr>\n",
       "      <th>50%</th>\n",
       "      <td>38409.000000</td>\n",
       "      <td>57.750000</td>\n",
       "      <td>272.349500</td>\n",
       "      <td>1.271406e+06</td>\n",
       "      <td>1.590238e+06</td>\n",
       "      <td>1533.000000</td>\n",
       "      <td>118.450000</td>\n",
       "      <td>118450.000000</td>\n",
       "      <td>1.598242e+06</td>\n",
       "      <td>39.000000</td>\n",
       "      <td>58.000000</td>\n",
       "      <td>58000.000000</td>\n",
       "      <td>38115.000000</td>\n",
       "    </tr>\n",
       "    <tr>\n",
       "      <th>75%</th>\n",
       "      <td>40936.500000</td>\n",
       "      <td>73.425000</td>\n",
       "      <td>296.799750</td>\n",
       "      <td>1.399998e+06</td>\n",
       "      <td>1.719001e+06</td>\n",
       "      <td>1714.250000</td>\n",
       "      <td>132.850000</td>\n",
       "      <td>132850.000000</td>\n",
       "      <td>1.728588e+06</td>\n",
       "      <td>39.100000</td>\n",
       "      <td>65.250000</td>\n",
       "      <td>65250.000000</td>\n",
       "      <td>40868.250000</td>\n",
       "    </tr>\n",
       "    <tr>\n",
       "      <th>max</th>\n",
       "      <td>65201.000000</td>\n",
       "      <td>85.600000</td>\n",
       "      <td>307.789000</td>\n",
       "      <td>3.080929e+06</td>\n",
       "      <td>1.905336e+06</td>\n",
       "      <td>1915.000000</td>\n",
       "      <td>164.300000</td>\n",
       "      <td>164300.000000</td>\n",
       "      <td>1.905336e+06</td>\n",
       "      <td>39.800000</td>\n",
       "      <td>85.000000</td>\n",
       "      <td>85000.000000</td>\n",
       "      <td>49886.000000</td>\n",
       "    </tr>\n",
       "  </tbody>\n",
       "</table>\n",
       "</div>"
      ],
      "text/plain": [
       "             Donors    AvgTemp         CPI        Budget         Sales  \\\n",
       "count     60.000000  60.000000   60.000000  6.000000e+01  6.000000e+01   \n",
       "mean   37985.416667  58.518333  276.558967  1.555777e+06  1.547741e+06   \n",
       "std     8425.172322  15.901887   19.706264  6.530974e+05  3.132404e+05   \n",
       "min        0.000000  35.500000  251.712000  9.985300e+05  0.000000e+00   \n",
       "25%    34810.500000  41.800000  257.927500  1.196114e+06  1.519848e+06   \n",
       "50%    38409.000000  57.750000  272.349500  1.271406e+06  1.590238e+06   \n",
       "75%    40936.500000  73.425000  296.799750  1.399998e+06  1.719001e+06   \n",
       "max    65201.000000  85.600000  307.789000  3.080929e+06  1.905336e+06   \n",
       "\n",
       "       NewResidentialConstruction(Thousands)  HousingUnitPermits(Thousands)  \\\n",
       "count                              60.000000                      60.000000   \n",
       "mean                             1560.583333                     120.718333   \n",
       "std                               184.596793                      17.147560   \n",
       "min                              1066.000000                      80.000000   \n",
       "25%                              1449.000000                     112.725000   \n",
       "50%                              1533.000000                     118.450000   \n",
       "75%                              1714.250000                     132.850000   \n",
       "max                              1915.000000                     164.300000   \n",
       "\n",
       "        HousingUnits  Adjusted Sales  AverageContrusctionHoursWorked  \\\n",
       "count      60.000000    6.000000e+01                       60.000000   \n",
       "mean   120718.333333    1.632616e+06                       38.995000   \n",
       "std     17147.559906    1.275127e+05                        0.306663   \n",
       "min     80000.000000    1.331908e+06                       38.100000   \n",
       "25%    112725.000000    1.554540e+06                       38.875000   \n",
       "50%    118450.000000    1.598242e+06                       39.000000   \n",
       "75%    132850.000000    1.728588e+06                       39.100000   \n",
       "max    164300.000000    1.905336e+06                       39.800000   \n",
       "\n",
       "       NewHomeSales(Thousands)  NewHomeSales  AdjustedDonors  \n",
       "count                60.000000     60.000000       60.000000  \n",
       "mean                 59.683333  59683.333333    38340.750000  \n",
       "std                  10.558139  10558.138746     4713.927876  \n",
       "min                  41.000000  41000.000000    27533.000000  \n",
       "25%                  52.000000  52000.000000    35148.000000  \n",
       "50%                  58.000000  58000.000000    38115.000000  \n",
       "75%                  65.250000  65250.000000    40868.250000  \n",
       "max                  85.000000  85000.000000    49886.000000  "
      ]
     },
     "execution_count": 171,
     "metadata": {},
     "output_type": "execute_result"
    }
   ],
   "source": [
    "df.describe()"
   ]
  },
  {
   "cell_type": "code",
   "execution_count": 97,
   "metadata": {},
   "outputs": [
    {
     "name": "stdout",
     "output_type": "stream",
     "text": [
      "<class 'pandas.core.frame.DataFrame'>\n",
      "RangeIndex: 60 entries, 0 to 59\n",
      "Data columns (total 14 columns):\n",
      " #   Column                                 Non-Null Count  Dtype  \n",
      "---  ------                                 --------------  -----  \n",
      " 0   Date                                   60 non-null     object \n",
      " 1   Donors                                 60 non-null     int64  \n",
      " 2   AvgTemp                                60 non-null     float64\n",
      " 3   CPI                                    60 non-null     float64\n",
      " 4   Budget                                 60 non-null     int64  \n",
      " 5   Sales                                  60 non-null     int64  \n",
      " 6   NewResidentialConstruction(Thousands)  60 non-null     object \n",
      " 7   HousingUnitPermits(Thousands)          60 non-null     float64\n",
      " 8   HousingUnits                           60 non-null     int64  \n",
      " 9   Adjusted Sales                         60 non-null     int64  \n",
      " 10  AverageContrusctionHoursWorked         60 non-null     float64\n",
      " 11  NewHomeSales(Thousands)                60 non-null     int64  \n",
      " 12  NewHomeSales                           60 non-null     int64  \n",
      " 13  AdjustedDonors                         60 non-null     int64  \n",
      "dtypes: float64(4), int64(8), object(2)\n",
      "memory usage: 6.7+ KB\n"
     ]
    }
   ],
   "source": [
    "df.info()"
   ]
  },
  {
   "cell_type": "code",
   "execution_count": 98,
   "metadata": {},
   "outputs": [],
   "source": [
    "df = df.drop(columns=['Date'])\n",
    "df['NewResidentialConstruction(Thousands)'] = df['NewResidentialConstruction(Thousands)'].str.replace(',', '').astype(float)"
   ]
  },
  {
   "cell_type": "code",
   "execution_count": 99,
   "metadata": {},
   "outputs": [
    {
     "name": "stdout",
     "output_type": "stream",
     "text": [
      "Best parameters found:  {'C': 0.1, 'coef0': 0.0, 'degree': 2, 'gamma': 'scale', 'kernel': 'linear', 'probability': True, 'shrinking': True}\n",
      "Best accuracy score:  0.0\n",
      "                                 Feature  Importance\n",
      "8                         Adjusted Sales    0.173333\n",
      "1                                AvgTemp    0.156667\n",
      "5  NewResidentialConstruction(Thousands)    0.136667\n",
      "0                                 Donors    0.130000\n",
      "9         AverageContrusctionHoursWorked    0.126667\n",
      "2                                    CPI    0.106667\n",
      "6          HousingUnitPermits(Thousands)    0.103333\n",
      "7                           HousingUnits    0.103333\n",
      "3                                 Budget    0.090000\n",
      "4                                  Sales    0.080000\n"
     ]
    }
   ],
   "source": [
    "\n",
    "\n",
    "# ACreate 2 dataframes, one for target and one for features\n",
    "X = df.drop(columns=['AdjustedDonors'])\n",
    "y = df['AdjustedDonors']\n",
    "\n",
    "# Normalize the data\n",
    "scaler = StandardScaler()\n",
    "X_scaled = scaler.fit_transform(X)\n",
    "\n",
    "# Define the parameter grid\n",
    "param_grid = {\n",
    "    'C': [0.1, 1, 10, 100],\n",
    "    'kernel': ['linear', 'poly', 'rbf', 'sigmoid'],\n",
    "    'gamma': ['scale', 'auto'],\n",
    "    'degree': [2, 3, 4],\n",
    "    'coef0': [0.0, 0.1, 0.5],\n",
    "    'shrinking': [True, False],\n",
    "    'probability': [True, False]\n",
    "}\n",
    "\n",
    "# Initialize the SVM model\n",
    "svm = SVC()\n",
    "\n",
    "# Set up the grid search with KFold cross-validation\n",
    "kf = KFold(n_splits=3)\n",
    "grid_search = GridSearchCV(estimator=svm, param_grid=param_grid, scoring='accuracy', cv=kf)\n",
    "\n",
    "# Fit the grid search to the data\n",
    "grid_search.fit(X_scaled, y)\n",
    "\n",
    "# Print the best parameters and the best score\n",
    "print(\"Best parameters found: \", grid_search.best_params_)\n",
    "print(\"Best accuracy score: \", grid_search.best_score_)\n",
    "\n",
    "# Calculate permutation importance\n",
    "results = permutation_importance(grid_search.best_estimator_, X_scaled, y, scoring='accuracy')\n",
    "\n",
    "# Create a DataFrame for permutation importance results\n",
    "perm_importance_df = pd.DataFrame({\n",
    "    'Feature': df.drop(columns=['AdjustedDonors']).columns,\n",
    "    'Importance': results.importances_mean\n",
    "})\n",
    "\n",
    "# Sort the DataFrame by importance\n",
    "perm_importance_df = perm_importance_df.sort_values(by='Importance', ascending=False)\n",
    "\n",
    "# Display the most influential attributes\n",
    "print(perm_importance_df.head(10))"
   ]
  },
  {
   "cell_type": "markdown",
   "metadata": {},
   "source": [
    "NOTE on Feature Importance:\r\n",
    "\r\n",
    "T results showhe relative importance of each feature in the modelr**s: 0.073333\r\n",
    "Key Observations:\r\n",
    "AvgTemp and Adjusted Sales are the most influential features, indicating that they have the highest impact on the model's predictions.\r\n",
    "The low accuracy score suggests that the model might not be capturing the underlying patterns in the da**ta differently."
   ]
  },
  {
   "cell_type": "code",
   "execution_count": 100,
   "metadata": {},
   "outputs": [
    {
     "data": {
      "image/png": "[encoded data removed]",
      "text/plain": [
       "<Figure size 1000x600 with 1 Axes>"
      ]
     },
     "metadata": {},
     "output_type": "display_data"
    }
   ],
   "source": [
    "##Plotting the Scaled Data Using the Two Most Impactful Features Above\n",
    "scaled_df = pd.DataFrame(X_scaled, columns=X.columns)\n",
    "scaled_df['AdjustedDonors'] = y.values\n",
    "\n",
    "plt.figure(figsize=(10, 6))\n",
    "scatter_plot = sns.scatterplot(data=scaled_df, x='Adjusted Sales', y='AvgTemp', hue='AdjustedDonors')\n",
    "plt.title('Scatter Plot of Adjusted Sales vs Average Temp with Adjusted Donors as Hue')\n",
    "plt.xlabel('Adjusted Sales')\n",
    "plt.ylabel('Average Temp')\n",
    "plt.legend(title='Adjusted Donors')\n",
    "plt.show()"
   ]
  },
  {
   "cell_type": "markdown",
   "metadata": {},
   "source": [
    "**Creating a K Neighbors Classifier To Create Decision Boundaries**"
   ]
  },
  {
   "cell_type": "code",
   "execution_count": 201,
   "metadata": {},
   "outputs": [],
   "source": [
    "from sklearn.neighbors import KNeighborsClassifier\n",
    "model = KNeighborsClassifier(n_neighbors = 5)"
   ]
  },
  {
   "cell_type": "code",
   "execution_count": 202,
   "metadata": {},
   "outputs": [
    {
     "data": {
      "text/html": [
       "<style>#sk-container-id-16 {color: black;background-color: white;}#sk-container-id-16 pre{padding: 0;}#sk-container-id-16 div.sk-toggleable {background-color: white;}#sk-container-id-16 label.sk-toggleable__label {cursor: pointer;display: block;width: 100%;margin-bottom: 0;padding: 0.3em;box-sizing: border-box;text-align: center;}#sk-container-id-16 label.sk-toggleable__label-arrow:before {content: \"▸\";float: left;margin-right: 0.25em;color: #696969;}#sk-container-id-16 label.sk-toggleable__label-arrow:hover:before {color: black;}#sk-container-id-16 div.sk-estimator:hover label.sk-toggleable__label-arrow:before {color: black;}#sk-container-id-16 div.sk-toggleable__content {max-height: 0;max-width: 0;overflow: hidden;text-align: left;background-color: #f0f8ff;}#sk-container-id-16 div.sk-toggleable__content pre {margin: 0.2em;color: black;border-radius: 0.25em;background-color: #f0f8ff;}#sk-container-id-16 input.sk-toggleable__control:checked~div.sk-toggleable__content {max-height: 200px;max-width: 100%;overflow: auto;}#sk-container-id-16 input.sk-toggleable__control:checked~label.sk-toggleable__label-arrow:before {content: \"▾\";}#sk-container-id-16 div.sk-estimator input.sk-toggleable__control:checked~label.sk-toggleable__label {background-color: #d4ebff;}#sk-container-id-16 div.sk-label input.sk-toggleable__control:checked~label.sk-toggleable__label {background-color: #d4ebff;}#sk-container-id-16 input.sk-hidden--visually {border: 0;clip: rect(1px 1px 1px 1px);clip: rect(1px, 1px, 1px, 1px);height: 1px;margin: -1px;overflow: hidden;padding: 0;position: absolute;width: 1px;}#sk-container-id-16 div.sk-estimator {font-family: monospace;background-color: #f0f8ff;border: 1px dotted black;border-radius: 0.25em;box-sizing: border-box;margin-bottom: 0.5em;}#sk-container-id-16 div.sk-estimator:hover {background-color: #d4ebff;}#sk-container-id-16 div.sk-parallel-item::after {content: \"\";width: 100%;border-bottom: 1px solid gray;flex-grow: 1;}#sk-container-id-16 div.sk-label:hover label.sk-toggleable__label {background-color: #d4ebff;}#sk-container-id-16 div.sk-serial::before {content: \"\";position: absolute;border-left: 1px solid gray;box-sizing: border-box;top: 0;bottom: 0;left: 50%;z-index: 0;}#sk-container-id-16 div.sk-serial {display: flex;flex-direction: column;align-items: center;background-color: white;padding-right: 0.2em;padding-left: 0.2em;position: relative;}#sk-container-id-16 div.sk-item {position: relative;z-index: 1;}#sk-container-id-16 div.sk-parallel {display: flex;align-items: stretch;justify-content: center;background-color: white;position: relative;}#sk-container-id-16 div.sk-item::before, #sk-container-id-16 div.sk-parallel-item::before {content: \"\";position: absolute;border-left: 1px solid gray;box-sizing: border-box;top: 0;bottom: 0;left: 50%;z-index: -1;}#sk-container-id-16 div.sk-parallel-item {display: flex;flex-direction: column;z-index: 1;position: relative;background-color: white;}#sk-container-id-16 div.sk-parallel-item:first-child::after {align-self: flex-end;width: 50%;}#sk-container-id-16 div.sk-parallel-item:last-child::after {align-self: flex-start;width: 50%;}#sk-container-id-16 div.sk-parallel-item:only-child::after {width: 0;}#sk-container-id-16 div.sk-dashed-wrapped {border: 1px dashed gray;margin: 0 0.4em 0.5em 0.4em;box-sizing: border-box;padding-bottom: 0.4em;background-color: white;}#sk-container-id-16 div.sk-label label {font-family: monospace;font-weight: bold;display: inline-block;line-height: 1.2em;}#sk-container-id-16 div.sk-label-container {text-align: center;}#sk-container-id-16 div.sk-container {/* jupyter's `normalize.less` sets `[hidden] { display: none; }` but bootstrap.min.css set `[hidden] { display: none !important; }` so we also need the `!important` here to be able to override the default hidden behavior on the sphinx rendered scikit-learn.org. See: https://github.com/scikit-learn/scikit-learn/issues/21755 */display: inline-block !important;position: relative;}#sk-container-id-16 div.sk-text-repr-fallback {display: none;}</style><div id=\"sk-container-id-16\" class=\"sk-top-container\"><div class=\"sk-text-repr-fallback\"><pre>KNeighborsClassifier()</pre><b>In a Jupyter environment, please rerun this cell to show the HTML representation or trust the notebook. <br />On GitHub, the HTML representation is unable to render, please try loading this page with nbviewer.org.</b></div><div class=\"sk-container\" hidden><div class=\"sk-item\"><div class=\"sk-estimator sk-toggleable\"><input class=\"sk-toggleable__control sk-hidden--visually\" id=\"sk-estimator-id-20\" type=\"checkbox\" checked><label for=\"sk-estimator-id-20\" class=\"sk-toggleable__label sk-toggleable__label-arrow\">KNeighborsClassifier</label><div class=\"sk-toggleable__content\"><pre>KNeighborsClassifier()</pre></div></div></div></div></div>"
      ],
      "text/plain": [
       "KNeighborsClassifier()"
      ]
     },
     "execution_count": 202,
     "metadata": {},
     "output_type": "execute_result"
    }
   ],
   "source": [
    "model.fit(df[['CPI', 'AvgTemp']], df['AdjustedDonors'])"
   ]
  },
  {
   "cell_type": "code",
   "execution_count": 203,
   "metadata": {},
   "outputs": [
    {
     "name": "stderr",
     "output_type": "stream",
     "text": [
      "C:\\Users\\ibaca\\AppData\\Local\\anaconda3\\Lib\\site-packages\\sklearn\\base.py:439: UserWarning: X does not have valid feature names, but KNeighborsClassifier was fitted with feature names\n",
      "  warnings.warn(\n"
     ]
    },
    {
     "data": {
      "text/plain": [
       "array([38280], dtype=int64)"
      ]
     },
     "execution_count": 203,
     "metadata": {},
     "output_type": "execute_result"
    }
   ],
   "source": [
    "model.predict([[210,75]])"
   ]
  },
  {
   "cell_type": "code",
   "execution_count": 204,
   "metadata": {},
   "outputs": [
    {
     "name": "stderr",
     "output_type": "stream",
     "text": [
      "C:\\Users\\ibaca\\AppData\\Local\\anaconda3\\Lib\\site-packages\\sklearn\\base.py:439: UserWarning: X does not have valid feature names, but KNeighborsClassifier was fitted with feature names\n",
      "  warnings.warn(\n",
      "C:\\Users\\ibaca\\AppData\\Local\\anaconda3\\Lib\\site-packages\\sklearn\\base.py:439: UserWarning: X does not have valid feature names, but KNeighborsClassifier was fitted with feature names\n",
      "  warnings.warn(\n"
     ]
    },
    {
     "data": {
      "image/png": "[encoded data removed]",
      "text/plain": [
       "<Figure size 640x480 with 1 Axes>"
      ]
     },
     "metadata": {},
     "output_type": "display_data"
    }
   ],
   "source": [
    "from matplotlib.colors import ListedColormap\n",
    "import seaborn as sns\n",
    "\n",
    "def plot_decision_boundary(model, x, y):\n",
    "    \"\"\"This function plots the model's decision boundaries over the x and y values provided for multi-class data.\"\"\"\n",
    "    # Generate a colormap with enough colors for all classes\n",
    "    num_classes = len(np.unique(y))\n",
    "    sns_cmap = ListedColormap(sns.color_palette(\"hsv\", num_classes))\n",
    "\n",
    "    # Create a meshgrid\n",
    "    xx, yy = np.meshgrid(np.linspace(x.min(), x.max(), 100), np.linspace(y.min(), y.max(), 100))\n",
    "\n",
    "    # Predict class labels for each point in the meshgrid\n",
    "    Z = model.predict(np.c_[xx.ravel(), yy.ravel()])\n",
    "    Z = Z.reshape(xx.shape)\n",
    "\n",
    "    # Plot the decision boundary\n",
    "    plt.contourf(xx, yy, Z, cmap=sns_cmap, alpha=0.8)\n",
    "    plt.scatter(x, y, c=model.predict(np.c_[x, y]), cmap=sns_cmap, edgecolor='k', s=20)\n",
    "    plt.show()\n",
    "\n",
    "# Example usage\n",
    "x_range = np.linspace(0, 100, 100)\n",
    "y_range = np.linspace(0, 500, 100)\n",
    "plot_decision_boundary(model, x_range, y_range)"
   ]
  },
  {
   "cell_type": "code",
   "execution_count": 205,
   "metadata": {},
   "outputs": [
    {
     "name": "stderr",
     "output_type": "stream",
     "text": [
      "C:\\Users\\ibaca\\AppData\\Local\\anaconda3\\Lib\\site-packages\\sklearn\\base.py:439: UserWarning: X does not have valid feature names, but KNeighborsClassifier was fitted with feature names\n",
      "  warnings.warn(\n",
      "C:\\Users\\ibaca\\AppData\\Local\\anaconda3\\Lib\\site-packages\\sklearn\\base.py:439: UserWarning: X does not have valid feature names, but KNeighborsClassifier was fitted with feature names\n",
      "  warnings.warn(\n"
     ]
    },
    {
     "data": {
      "image/png": "[encoded data removed]",
      "text/plain": [
       "<Figure size 640x480 with 1 Axes>"
      ]
     },
     "metadata": {},
     "output_type": "display_data"
    }
   ],
   "source": [
    "\n",
    "x_range = np.linspace(0, 500, 100)\n",
    "y_range = np.linspace(0, 500, 100)\n",
    "plot_decision_boundary(model, x_range, y_range)"
   ]
  },
  {
   "cell_type": "code",
   "execution_count": 206,
   "metadata": {},
   "outputs": [],
   "source": [
    "#Here we add a column of all our predictions to the dataframe\n",
    "df[\"y_hat\"] = model.predict(df[[\"CPI\", \"AvgTemp\"]])"
   ]
  },
  {
   "cell_type": "code",
   "execution_count": 207,
   "metadata": {},
   "outputs": [
    {
     "data": {
      "text/html": [
       "<div>\n",
       "<style scoped>\n",
       "    .dataframe tbody tr th:only-of-type {\n",
       "        vertical-align: middle;\n",
       "    }\n",
       "\n",
       "    .dataframe tbody tr th {\n",
       "        vertical-align: top;\n",
       "    }\n",
       "\n",
       "    .dataframe thead th {\n",
       "        text-align: right;\n",
       "    }\n",
       "</style>\n",
       "<table border=\"1\" class=\"dataframe\">\n",
       "  <thead>\n",
       "    <tr style=\"text-align: right;\">\n",
       "      <th></th>\n",
       "      <th>Donors</th>\n",
       "      <th>AvgTemp</th>\n",
       "      <th>CPI</th>\n",
       "      <th>Budget</th>\n",
       "      <th>Sales</th>\n",
       "      <th>NewResidentialConstruction(Thousands)</th>\n",
       "      <th>HousingUnitPermits(Thousands)</th>\n",
       "      <th>HousingUnits</th>\n",
       "      <th>Adjusted Sales</th>\n",
       "      <th>AverageContrusctionHoursWorked</th>\n",
       "      <th>NewHomeSales(Thousands)</th>\n",
       "      <th>NewHomeSales</th>\n",
       "      <th>AdjustedDonors</th>\n",
       "      <th>y_hat</th>\n",
       "    </tr>\n",
       "  </thead>\n",
       "  <tbody>\n",
       "    <tr>\n",
       "      <th>0</th>\n",
       "      <td>34698</td>\n",
       "      <td>35.9</td>\n",
       "      <td>251.712</td>\n",
       "      <td>1292132</td>\n",
       "      <td>1557361</td>\n",
       "      <td>1261.0</td>\n",
       "      <td>87.0</td>\n",
       "      <td>87000</td>\n",
       "      <td>1557361</td>\n",
       "      <td>39.7</td>\n",
       "      <td>49</td>\n",
       "      <td>49000</td>\n",
       "      <td>34698</td>\n",
       "      <td>27533</td>\n",
       "    </tr>\n",
       "    <tr>\n",
       "      <th>1</th>\n",
       "      <td>27533</td>\n",
       "      <td>39.9</td>\n",
       "      <td>252.776</td>\n",
       "      <td>1271468</td>\n",
       "      <td>1432247</td>\n",
       "      <td>1287.0</td>\n",
       "      <td>80.0</td>\n",
       "      <td>80000</td>\n",
       "      <td>1432247</td>\n",
       "      <td>38.6</td>\n",
       "      <td>57</td>\n",
       "      <td>57000</td>\n",
       "      <td>27533</td>\n",
       "      <td>27533</td>\n",
       "    </tr>\n",
       "    <tr>\n",
       "      <th>2</th>\n",
       "      <td>36468</td>\n",
       "      <td>50.2</td>\n",
       "      <td>254.202</td>\n",
       "      <td>1421717</td>\n",
       "      <td>1667795</td>\n",
       "      <td>1305.0</td>\n",
       "      <td>98.2</td>\n",
       "      <td>98200</td>\n",
       "      <td>1667795</td>\n",
       "      <td>39.3</td>\n",
       "      <td>68</td>\n",
       "      <td>68000</td>\n",
       "      <td>36468</td>\n",
       "      <td>30216</td>\n",
       "    </tr>\n",
       "    <tr>\n",
       "      <th>3</th>\n",
       "      <td>32788</td>\n",
       "      <td>57.4</td>\n",
       "      <td>255.548</td>\n",
       "      <td>1348579</td>\n",
       "      <td>1530041</td>\n",
       "      <td>1311.0</td>\n",
       "      <td>116.6</td>\n",
       "      <td>116600</td>\n",
       "      <td>1530041</td>\n",
       "      <td>39.0</td>\n",
       "      <td>64</td>\n",
       "      <td>64000</td>\n",
       "      <td>32788</td>\n",
       "      <td>32788</td>\n",
       "    </tr>\n",
       "    <tr>\n",
       "      <th>4</th>\n",
       "      <td>39674</td>\n",
       "      <td>61.6</td>\n",
       "      <td>256.092</td>\n",
       "      <td>1336206</td>\n",
       "      <td>1589136</td>\n",
       "      <td>1347.0</td>\n",
       "      <td>118.1</td>\n",
       "      <td>118100</td>\n",
       "      <td>1589136</td>\n",
       "      <td>39.1</td>\n",
       "      <td>56</td>\n",
       "      <td>56000</td>\n",
       "      <td>39674</td>\n",
       "      <td>32788</td>\n",
       "    </tr>\n",
       "  </tbody>\n",
       "</table>\n",
       "</div>"
      ],
      "text/plain": [
       "   Donors  AvgTemp      CPI   Budget    Sales  \\\n",
       "0   34698     35.9  251.712  1292132  1557361   \n",
       "1   27533     39.9  252.776  1271468  1432247   \n",
       "2   36468     50.2  254.202  1421717  1667795   \n",
       "3   32788     57.4  255.548  1348579  1530041   \n",
       "4   39674     61.6  256.092  1336206  1589136   \n",
       "\n",
       "   NewResidentialConstruction(Thousands)  HousingUnitPermits(Thousands)  \\\n",
       "0                                 1261.0                           87.0   \n",
       "1                                 1287.0                           80.0   \n",
       "2                                 1305.0                           98.2   \n",
       "3                                 1311.0                          116.6   \n",
       "4                                 1347.0                          118.1   \n",
       "\n",
       "   HousingUnits  Adjusted Sales  AverageContrusctionHoursWorked  \\\n",
       "0         87000         1557361                            39.7   \n",
       "1         80000         1432247                            38.6   \n",
       "2         98200         1667795                            39.3   \n",
       "3        116600         1530041                            39.0   \n",
       "4        118100         1589136                            39.1   \n",
       "\n",
       "   NewHomeSales(Thousands)  NewHomeSales  AdjustedDonors  y_hat  \n",
       "0                       49         49000           34698  27533  \n",
       "1                       57         57000           27533  27533  \n",
       "2                       68         68000           36468  30216  \n",
       "3                       64         64000           32788  32788  \n",
       "4                       56         56000           39674  32788  "
      ]
     },
     "execution_count": 207,
     "metadata": {},
     "output_type": "execute_result"
    }
   ],
   "source": [
    "df.head()"
   ]
  },
  {
   "cell_type": "code",
   "execution_count": 208,
   "metadata": {},
   "outputs": [],
   "source": [
    "\n",
    "from sklearn.metrics import accuracy_score\n",
    "##Function that calculates the misclassification rate for the k-nearest neighbors classifier using different k's\n",
    "def get_misclassification_rate_for_k(k):\n",
    "    model = KNeighborsClassifier(n_neighbors=k)\n",
    "    model.fit(df[['AvgTemp', 'CPI']], df['AdjustedDonors'])\n",
    "    predictions = model.predict(df[['AvgTemp', 'CPI']])\n",
    "    accuracy = accuracy_score(df['AdjustedDonors'], predictions)\n",
    "    misclassification_rate = 1 - accuracy\n",
    "    print(f\"Misclassification rate for k={k}: {misclassification_rate}\")\n",
    "    return misclassification_rate"
   ]
  },
  {
   "cell_type": "code",
   "execution_count": 209,
   "metadata": {},
   "outputs": [
    {
     "name": "stdout",
     "output_type": "stream",
     "text": [
      "Misclassification rate for k=1: 0.0\n",
      "Misclassification rate for k=2: 0.5333333333333333\n",
      "Misclassification rate for k=3: 0.6833333333333333\n",
      "Misclassification rate for k=4: 0.75\n",
      "Misclassification rate for k=5: 0.8166666666666667\n",
      "Misclassification rate for k=6: 0.8333333333333334\n",
      "Misclassification rate for k=7: 0.8666666666666667\n",
      "Misclassification rate for k=8: 0.9333333333333333\n",
      "Misclassification rate for k=9: 0.9333333333333333\n",
      "Misclassification rate for k=10: 0.95\n",
      "Misclassification rate for k=11: 0.9833333333333333\n",
      "Misclassification rate for k=12: 0.9833333333333333\n",
      "Misclassification rate for k=13: 0.9833333333333333\n",
      "Misclassification rate for k=14: 0.9833333333333333\n",
      "Misclassification rate for k=15: 0.9833333333333333\n",
      "Misclassification rate for k=16: 0.9833333333333333\n",
      "Misclassification rate for k=17: 0.9833333333333333\n",
      "Misclassification rate for k=18: 0.9833333333333333\n",
      "Misclassification rate for k=19: 0.9833333333333333\n",
      "Misclassification rate for k=20: 0.9833333333333333\n",
      "Misclassification rate for k=21: 0.9833333333333333\n",
      "Misclassification rate for k=22: 0.9833333333333333\n",
      "Misclassification rate for k=23: 0.9833333333333333\n",
      "Misclassification rate for k=24: 0.9833333333333333\n"
     ]
    }
   ],
   "source": [
    "##Here, we want to see the missclassification rates for various values of k, in this case k=1 through k=25 \n",
    "ks = range(1, 25)\n",
    "errors = [get_misclassification_rate_for_k(k) for k in ks]\n",
    "errors_and_ks = pd.DataFrame({'k': ks, 'Misclassification Rate': errors})"
   ]
  },
  {
   "cell_type": "markdown",
   "metadata": {},
   "source": [
    "### Interpretation\n",
    "For ( k=1 ): The misclassification rate is 0.0, meaning the model perfectly classifies all the data points. This is often a sign of overfitting, where the model is too closely fitted to the training data and may not generalize well to new data.\n",
    "\n",
    "For ( k=2 ) to ( k=10 ): The misclassification rate increases significantly, indicating that the model's performance deteriorates as ( k ) increases. This suggests that the model is not able to capture the underlying patterns in the data as effectively with these values of ( k ).\n",
    "\n",
    "For ( k=11 ) to ( k=24 ): The misclassification rate stabilizes at around 0.9833, indicating that the model is consistently misclassifying a large portion of the data. This high misclassification rate suggests that the model is underfitting, meaning it is too simple to capture the complexity of the data.###"
   ]
  },
  {
   "cell_type": "code",
   "execution_count": 210,
   "metadata": {},
   "outputs": [
    {
     "data": {
      "text/html": [
       "<div>\n",
       "<style scoped>\n",
       "    .dataframe tbody tr th:only-of-type {\n",
       "        vertical-align: middle;\n",
       "    }\n",
       "\n",
       "    .dataframe tbody tr th {\n",
       "        vertical-align: top;\n",
       "    }\n",
       "\n",
       "    .dataframe thead th {\n",
       "        text-align: right;\n",
       "    }\n",
       "</style>\n",
       "<table border=\"1\" class=\"dataframe\">\n",
       "  <thead>\n",
       "    <tr style=\"text-align: right;\">\n",
       "      <th></th>\n",
       "      <th>k</th>\n",
       "      <th>Misclassification Rate</th>\n",
       "      <th>-k</th>\n",
       "    </tr>\n",
       "  </thead>\n",
       "  <tbody>\n",
       "    <tr>\n",
       "      <th>0</th>\n",
       "      <td>1</td>\n",
       "      <td>0.000000</td>\n",
       "      <td>-1</td>\n",
       "    </tr>\n",
       "    <tr>\n",
       "      <th>1</th>\n",
       "      <td>2</td>\n",
       "      <td>0.533333</td>\n",
       "      <td>-2</td>\n",
       "    </tr>\n",
       "    <tr>\n",
       "      <th>2</th>\n",
       "      <td>3</td>\n",
       "      <td>0.683333</td>\n",
       "      <td>-3</td>\n",
       "    </tr>\n",
       "    <tr>\n",
       "      <th>3</th>\n",
       "      <td>4</td>\n",
       "      <td>0.750000</td>\n",
       "      <td>-4</td>\n",
       "    </tr>\n",
       "    <tr>\n",
       "      <th>4</th>\n",
       "      <td>5</td>\n",
       "      <td>0.816667</td>\n",
       "      <td>-5</td>\n",
       "    </tr>\n",
       "    <tr>\n",
       "      <th>...</th>\n",
       "      <td>...</td>\n",
       "      <td>...</td>\n",
       "      <td>...</td>\n",
       "    </tr>\n",
       "    <tr>\n",
       "      <th>19</th>\n",
       "      <td>20</td>\n",
       "      <td>0.983333</td>\n",
       "      <td>-20</td>\n",
       "    </tr>\n",
       "    <tr>\n",
       "      <th>20</th>\n",
       "      <td>21</td>\n",
       "      <td>0.983333</td>\n",
       "      <td>-21</td>\n",
       "    </tr>\n",
       "    <tr>\n",
       "      <th>21</th>\n",
       "      <td>22</td>\n",
       "      <td>0.983333</td>\n",
       "      <td>-22</td>\n",
       "    </tr>\n",
       "    <tr>\n",
       "      <th>22</th>\n",
       "      <td>23</td>\n",
       "      <td>0.983333</td>\n",
       "      <td>-23</td>\n",
       "    </tr>\n",
       "    <tr>\n",
       "      <th>23</th>\n",
       "      <td>24</td>\n",
       "      <td>0.983333</td>\n",
       "      <td>-24</td>\n",
       "    </tr>\n",
       "  </tbody>\n",
       "</table>\n",
       "<p>24 rows × 3 columns</p>\n",
       "</div>"
      ],
      "text/plain": [
       "     k  Misclassification Rate  -k\n",
       "0    1                0.000000  -1\n",
       "1    2                0.533333  -2\n",
       "2    3                0.683333  -3\n",
       "3    4                0.750000  -4\n",
       "4    5                0.816667  -5\n",
       "..  ..                     ...  ..\n",
       "19  20                0.983333 -20\n",
       "20  21                0.983333 -21\n",
       "21  22                0.983333 -22\n",
       "22  23                0.983333 -23\n",
       "23  24                0.983333 -24\n",
       "\n",
       "[24 rows x 3 columns]"
      ]
     },
     "execution_count": 210,
     "metadata": {},
     "output_type": "execute_result"
    }
   ],
   "source": [
    "errors_and_ks[\"-k\"] = -errors_and_ks[\"k\"]\n",
    "errors_and_ks"
   ]
  },
  {
   "cell_type": "code",
   "execution_count": 211,
   "metadata": {},
   "outputs": [
    {
     "data": {
      "image/png": "[encoded data removed]",
      "text/plain": [
       "<Figure size 640x480 with 1 Axes>"
      ]
     },
     "metadata": {},
     "output_type": "display_data"
    },
    {
     "data": {
      "text/plain": [
       "<Figure size 640x480 with 0 Axes>"
      ]
     },
     "metadata": {},
     "output_type": "display_data"
    }
   ],
   "source": [
    "import matplotlib.pyplot as plt\n",
    "\n",
    "def standardize_figure(ax):\n",
    "    ax.grid(True)\n",
    "    plt.tight_layout()\n",
    "\n",
    "# Plotting Misclassification Rate vs k\n",
    "fig, ax = plt.subplots()\n",
    "ax.plot(errors_and_ks['k'], errors_and_ks['Misclassification Rate'], marker='o')\n",
    "ax.set_xlabel('k')\n",
    "ax.set_ylabel('Misclassification Rate')\n",
    "ax.set_title('Misclassification Rate vs k')\n",
    "standardize_figure(ax)\n",
    "plt.savefig('misclassification_rate_vs_k.png', dpi=200)\n",
    "plt.close(fig)\n",
    "\n",
    "# Plotting Misclassification Rate vs -k\n",
    "fig, ax = plt.subplots()\n",
    "ax.plot(errors_and_ks['-k'], errors_and_ks['Misclassification Rate'], marker='o')\n",
    "ax.set_xlabel('-k')\n",
    "ax.set_ylabel('Misclassification Rate')\n",
    "ax.set_title('Misclassification Rate vs -k')\n",
    "standardize_figure(ax)\n",
    "plt.show()\n",
    "plt.savefig('misclassification_rate_vs_neg_k.png', dpi=200)\n",
    "plt.close(fig)\n"
   ]
  },
  {
   "cell_type": "code",
   "execution_count": 212,
   "metadata": {},
   "outputs": [],
   "source": [
    "\n",
    "model = KNeighborsClassifier()\n",
    "parameters_to_try = {'n_neighbors': np.arange(1, 20)}\n",
    "\n",
    "from sklearn.model_selection import GridSearchCV\n",
    "model_finder = GridSearchCV(estimator = model, \n",
    "                               param_grid = parameters_to_try, \n",
    "                               scoring = \"accuracy\",\n",
    "                               cv = 2)"
   ]
  },
  {
   "cell_type": "code",
   "execution_count": 213,
   "metadata": {},
   "outputs": [
    {
     "name": "stderr",
     "output_type": "stream",
     "text": [
      "C:\\Users\\ibaca\\AppData\\Local\\anaconda3\\Lib\\site-packages\\sklearn\\model_selection\\_split.py:700: UserWarning: The least populated class in y has only 1 members, which is less than n_splits=2.\n",
      "  warnings.warn(\n"
     ]
    },
    {
     "data": {
      "text/html": [
       "<style>#sk-container-id-17 {color: black;background-color: white;}#sk-container-id-17 pre{padding: 0;}#sk-container-id-17 div.sk-toggleable {background-color: white;}#sk-container-id-17 label.sk-toggleable__label {cursor: pointer;display: block;width: 100%;margin-bottom: 0;padding: 0.3em;box-sizing: border-box;text-align: center;}#sk-container-id-17 label.sk-toggleable__label-arrow:before {content: \"▸\";float: left;margin-right: 0.25em;color: #696969;}#sk-container-id-17 label.sk-toggleable__label-arrow:hover:before {color: black;}#sk-container-id-17 div.sk-estimator:hover label.sk-toggleable__label-arrow:before {color: black;}#sk-container-id-17 div.sk-toggleable__content {max-height: 0;max-width: 0;overflow: hidden;text-align: left;background-color: #f0f8ff;}#sk-container-id-17 div.sk-toggleable__content pre {margin: 0.2em;color: black;border-radius: 0.25em;background-color: #f0f8ff;}#sk-container-id-17 input.sk-toggleable__control:checked~div.sk-toggleable__content {max-height: 200px;max-width: 100%;overflow: auto;}#sk-container-id-17 input.sk-toggleable__control:checked~label.sk-toggleable__label-arrow:before {content: \"▾\";}#sk-container-id-17 div.sk-estimator input.sk-toggleable__control:checked~label.sk-toggleable__label {background-color: #d4ebff;}#sk-container-id-17 div.sk-label input.sk-toggleable__control:checked~label.sk-toggleable__label {background-color: #d4ebff;}#sk-container-id-17 input.sk-hidden--visually {border: 0;clip: rect(1px 1px 1px 1px);clip: rect(1px, 1px, 1px, 1px);height: 1px;margin: -1px;overflow: hidden;padding: 0;position: absolute;width: 1px;}#sk-container-id-17 div.sk-estimator {font-family: monospace;background-color: #f0f8ff;border: 1px dotted black;border-radius: 0.25em;box-sizing: border-box;margin-bottom: 0.5em;}#sk-container-id-17 div.sk-estimator:hover {background-color: #d4ebff;}#sk-container-id-17 div.sk-parallel-item::after {content: \"\";width: 100%;border-bottom: 1px solid gray;flex-grow: 1;}#sk-container-id-17 div.sk-label:hover label.sk-toggleable__label {background-color: #d4ebff;}#sk-container-id-17 div.sk-serial::before {content: \"\";position: absolute;border-left: 1px solid gray;box-sizing: border-box;top: 0;bottom: 0;left: 50%;z-index: 0;}#sk-container-id-17 div.sk-serial {display: flex;flex-direction: column;align-items: center;background-color: white;padding-right: 0.2em;padding-left: 0.2em;position: relative;}#sk-container-id-17 div.sk-item {position: relative;z-index: 1;}#sk-container-id-17 div.sk-parallel {display: flex;align-items: stretch;justify-content: center;background-color: white;position: relative;}#sk-container-id-17 div.sk-item::before, #sk-container-id-17 div.sk-parallel-item::before {content: \"\";position: absolute;border-left: 1px solid gray;box-sizing: border-box;top: 0;bottom: 0;left: 50%;z-index: -1;}#sk-container-id-17 div.sk-parallel-item {display: flex;flex-direction: column;z-index: 1;position: relative;background-color: white;}#sk-container-id-17 div.sk-parallel-item:first-child::after {align-self: flex-end;width: 50%;}#sk-container-id-17 div.sk-parallel-item:last-child::after {align-self: flex-start;width: 50%;}#sk-container-id-17 div.sk-parallel-item:only-child::after {width: 0;}#sk-container-id-17 div.sk-dashed-wrapped {border: 1px dashed gray;margin: 0 0.4em 0.5em 0.4em;box-sizing: border-box;padding-bottom: 0.4em;background-color: white;}#sk-container-id-17 div.sk-label label {font-family: monospace;font-weight: bold;display: inline-block;line-height: 1.2em;}#sk-container-id-17 div.sk-label-container {text-align: center;}#sk-container-id-17 div.sk-container {/* jupyter's `normalize.less` sets `[hidden] { display: none; }` but bootstrap.min.css set `[hidden] { display: none !important; }` so we also need the `!important` here to be able to override the default hidden behavior on the sphinx rendered scikit-learn.org. See: https://github.com/scikit-learn/scikit-learn/issues/21755 */display: inline-block !important;position: relative;}#sk-container-id-17 div.sk-text-repr-fallback {display: none;}</style><div id=\"sk-container-id-17\" class=\"sk-top-container\"><div class=\"sk-text-repr-fallback\"><pre>GridSearchCV(cv=2, estimator=KNeighborsClassifier(),\n",
       "             param_grid={&#x27;n_neighbors&#x27;: array([ 1,  2,  3,  4,  5,  6,  7,  8,  9, 10, 11, 12, 13, 14, 15, 16, 17,\n",
       "       18, 19])},\n",
       "             scoring=&#x27;accuracy&#x27;)</pre><b>In a Jupyter environment, please rerun this cell to show the HTML representation or trust the notebook. <br />On GitHub, the HTML representation is unable to render, please try loading this page with nbviewer.org.</b></div><div class=\"sk-container\" hidden><div class=\"sk-item sk-dashed-wrapped\"><div class=\"sk-label-container\"><div class=\"sk-label sk-toggleable\"><input class=\"sk-toggleable__control sk-hidden--visually\" id=\"sk-estimator-id-21\" type=\"checkbox\" ><label for=\"sk-estimator-id-21\" class=\"sk-toggleable__label sk-toggleable__label-arrow\">GridSearchCV</label><div class=\"sk-toggleable__content\"><pre>GridSearchCV(cv=2, estimator=KNeighborsClassifier(),\n",
       "             param_grid={&#x27;n_neighbors&#x27;: array([ 1,  2,  3,  4,  5,  6,  7,  8,  9, 10, 11, 12, 13, 14, 15, 16, 17,\n",
       "       18, 19])},\n",
       "             scoring=&#x27;accuracy&#x27;)</pre></div></div></div><div class=\"sk-parallel\"><div class=\"sk-parallel-item\"><div class=\"sk-item\"><div class=\"sk-label-container\"><div class=\"sk-label sk-toggleable\"><input class=\"sk-toggleable__control sk-hidden--visually\" id=\"sk-estimator-id-22\" type=\"checkbox\" ><label for=\"sk-estimator-id-22\" class=\"sk-toggleable__label sk-toggleable__label-arrow\">estimator: KNeighborsClassifier</label><div class=\"sk-toggleable__content\"><pre>KNeighborsClassifier()</pre></div></div></div><div class=\"sk-serial\"><div class=\"sk-item\"><div class=\"sk-estimator sk-toggleable\"><input class=\"sk-toggleable__control sk-hidden--visually\" id=\"sk-estimator-id-23\" type=\"checkbox\" ><label for=\"sk-estimator-id-23\" class=\"sk-toggleable__label sk-toggleable__label-arrow\">KNeighborsClassifier</label><div class=\"sk-toggleable__content\"><pre>KNeighborsClassifier()</pre></div></div></div></div></div></div></div></div></div></div>"
      ],
      "text/plain": [
       "GridSearchCV(cv=2, estimator=KNeighborsClassifier(),\n",
       "             param_grid={'n_neighbors': array([ 1,  2,  3,  4,  5,  6,  7,  8,  9, 10, 11, 12, 13, 14, 15, 16, 17,\n",
       "       18, 19])},\n",
       "             scoring='accuracy')"
      ]
     },
     "execution_count": 213,
     "metadata": {},
     "output_type": "execute_result"
    }
   ],
   "source": [
    "model_finder.fit(df[['AvgTemp', 'CPI']], df[\"AdjustedDonors\"])"
   ]
  },
  {
   "cell_type": "code",
   "execution_count": 214,
   "metadata": {},
   "outputs": [
    {
     "data": {
      "text/html": [
       "<style>#sk-container-id-18 {color: black;background-color: white;}#sk-container-id-18 pre{padding: 0;}#sk-container-id-18 div.sk-toggleable {background-color: white;}#sk-container-id-18 label.sk-toggleable__label {cursor: pointer;display: block;width: 100%;margin-bottom: 0;padding: 0.3em;box-sizing: border-box;text-align: center;}#sk-container-id-18 label.sk-toggleable__label-arrow:before {content: \"▸\";float: left;margin-right: 0.25em;color: #696969;}#sk-container-id-18 label.sk-toggleable__label-arrow:hover:before {color: black;}#sk-container-id-18 div.sk-estimator:hover label.sk-toggleable__label-arrow:before {color: black;}#sk-container-id-18 div.sk-toggleable__content {max-height: 0;max-width: 0;overflow: hidden;text-align: left;background-color: #f0f8ff;}#sk-container-id-18 div.sk-toggleable__content pre {margin: 0.2em;color: black;border-radius: 0.25em;background-color: #f0f8ff;}#sk-container-id-18 input.sk-toggleable__control:checked~div.sk-toggleable__content {max-height: 200px;max-width: 100%;overflow: auto;}#sk-container-id-18 input.sk-toggleable__control:checked~label.sk-toggleable__label-arrow:before {content: \"▾\";}#sk-container-id-18 div.sk-estimator input.sk-toggleable__control:checked~label.sk-toggleable__label {background-color: #d4ebff;}#sk-container-id-18 div.sk-label input.sk-toggleable__control:checked~label.sk-toggleable__label {background-color: #d4ebff;}#sk-container-id-18 input.sk-hidden--visually {border: 0;clip: rect(1px 1px 1px 1px);clip: rect(1px, 1px, 1px, 1px);height: 1px;margin: -1px;overflow: hidden;padding: 0;position: absolute;width: 1px;}#sk-container-id-18 div.sk-estimator {font-family: monospace;background-color: #f0f8ff;border: 1px dotted black;border-radius: 0.25em;box-sizing: border-box;margin-bottom: 0.5em;}#sk-container-id-18 div.sk-estimator:hover {background-color: #d4ebff;}#sk-container-id-18 div.sk-parallel-item::after {content: \"\";width: 100%;border-bottom: 1px solid gray;flex-grow: 1;}#sk-container-id-18 div.sk-label:hover label.sk-toggleable__label {background-color: #d4ebff;}#sk-container-id-18 div.sk-serial::before {content: \"\";position: absolute;border-left: 1px solid gray;box-sizing: border-box;top: 0;bottom: 0;left: 50%;z-index: 0;}#sk-container-id-18 div.sk-serial {display: flex;flex-direction: column;align-items: center;background-color: white;padding-right: 0.2em;padding-left: 0.2em;position: relative;}#sk-container-id-18 div.sk-item {position: relative;z-index: 1;}#sk-container-id-18 div.sk-parallel {display: flex;align-items: stretch;justify-content: center;background-color: white;position: relative;}#sk-container-id-18 div.sk-item::before, #sk-container-id-18 div.sk-parallel-item::before {content: \"\";position: absolute;border-left: 1px solid gray;box-sizing: border-box;top: 0;bottom: 0;left: 50%;z-index: -1;}#sk-container-id-18 div.sk-parallel-item {display: flex;flex-direction: column;z-index: 1;position: relative;background-color: white;}#sk-container-id-18 div.sk-parallel-item:first-child::after {align-self: flex-end;width: 50%;}#sk-container-id-18 div.sk-parallel-item:last-child::after {align-self: flex-start;width: 50%;}#sk-container-id-18 div.sk-parallel-item:only-child::after {width: 0;}#sk-container-id-18 div.sk-dashed-wrapped {border: 1px dashed gray;margin: 0 0.4em 0.5em 0.4em;box-sizing: border-box;padding-bottom: 0.4em;background-color: white;}#sk-container-id-18 div.sk-label label {font-family: monospace;font-weight: bold;display: inline-block;line-height: 1.2em;}#sk-container-id-18 div.sk-label-container {text-align: center;}#sk-container-id-18 div.sk-container {/* jupyter's `normalize.less` sets `[hidden] { display: none; }` but bootstrap.min.css set `[hidden] { display: none !important; }` so we also need the `!important` here to be able to override the default hidden behavior on the sphinx rendered scikit-learn.org. See: https://github.com/scikit-learn/scikit-learn/issues/21755 */display: inline-block !important;position: relative;}#sk-container-id-18 div.sk-text-repr-fallback {display: none;}</style><div id=\"sk-container-id-18\" class=\"sk-top-container\"><div class=\"sk-text-repr-fallback\"><pre>KNeighborsClassifier(n_neighbors=1)</pre><b>In a Jupyter environment, please rerun this cell to show the HTML representation or trust the notebook. <br />On GitHub, the HTML representation is unable to render, please try loading this page with nbviewer.org.</b></div><div class=\"sk-container\" hidden><div class=\"sk-item\"><div class=\"sk-estimator sk-toggleable\"><input class=\"sk-toggleable__control sk-hidden--visually\" id=\"sk-estimator-id-24\" type=\"checkbox\" checked><label for=\"sk-estimator-id-24\" class=\"sk-toggleable__label sk-toggleable__label-arrow\">KNeighborsClassifier</label><div class=\"sk-toggleable__content\"><pre>KNeighborsClassifier(n_neighbors=1)</pre></div></div></div></div></div>"
      ],
      "text/plain": [
       "KNeighborsClassifier(n_neighbors=1)"
      ]
     },
     "execution_count": 214,
     "metadata": {},
     "output_type": "execute_result"
    }
   ],
   "source": [
    "model_finder.best_estimator_"
   ]
  },
  {
   "cell_type": "code",
   "execution_count": 215,
   "metadata": {},
   "outputs": [
    {
     "data": {
      "text/plain": [
       "array([0., 0., 0., 0., 0., 0., 0., 0., 0., 0., 0., 0., 0., 0., 0., 0., 0.,\n",
       "       0., 0.])"
      ]
     },
     "execution_count": 215,
     "metadata": {},
     "output_type": "execute_result"
    }
   ],
   "source": [
    "model_finder.cv_results_['mean_test_score']"
   ]
  },
  {
   "cell_type": "code",
   "execution_count": 217,
   "metadata": {},
   "outputs": [
    {
     "name": "stdout",
     "output_type": "stream",
     "text": [
      "19\n",
      "59\n"
     ]
    }
   ],
   "source": [
    "print(len(model_finder.cv_results_['mean_test_score']))\n",
    "print(len(np.array(range(1, len(df)))))"
   ]
  },
  {
   "cell_type": "code",
   "execution_count": 218,
   "metadata": {},
   "outputs": [],
   "source": [
    "gridsearch_output = pd.DataFrame({'CV accuracy': model_finder.cv_results_['mean_test_score'],\n",
    "             'k': np.array(range(1, 20))})"
   ]
  },
  {
   "cell_type": "code",
   "execution_count": 220,
   "metadata": {},
   "outputs": [],
   "source": [
    "gridsearch_output[\"-k\"] = -gridsearch_output[\"k\"]\n",
    "gridsearch_output[\"CV Error\"] = 1 - gridsearch_output[\"CV accuracy\"]"
   ]
  },
  {
   "cell_type": "code",
   "execution_count": 222,
   "metadata": {},
   "outputs": [
    {
     "data": {
      "text/html": [
       "<div>\n",
       "<style scoped>\n",
       "    .dataframe tbody tr th:only-of-type {\n",
       "        vertical-align: middle;\n",
       "    }\n",
       "\n",
       "    .dataframe tbody tr th {\n",
       "        vertical-align: top;\n",
       "    }\n",
       "\n",
       "    .dataframe thead th {\n",
       "        text-align: right;\n",
       "    }\n",
       "</style>\n",
       "<table border=\"1\" class=\"dataframe\">\n",
       "  <thead>\n",
       "    <tr style=\"text-align: right;\">\n",
       "      <th></th>\n",
       "      <th>CV accuracy</th>\n",
       "      <th>k</th>\n",
       "      <th>-k</th>\n",
       "      <th>CV Error</th>\n",
       "    </tr>\n",
       "  </thead>\n",
       "  <tbody>\n",
       "    <tr>\n",
       "      <th>0</th>\n",
       "      <td>0.0</td>\n",
       "      <td>1</td>\n",
       "      <td>-1</td>\n",
       "      <td>1.0</td>\n",
       "    </tr>\n",
       "    <tr>\n",
       "      <th>1</th>\n",
       "      <td>0.0</td>\n",
       "      <td>2</td>\n",
       "      <td>-2</td>\n",
       "      <td>1.0</td>\n",
       "    </tr>\n",
       "    <tr>\n",
       "      <th>2</th>\n",
       "      <td>0.0</td>\n",
       "      <td>3</td>\n",
       "      <td>-3</td>\n",
       "      <td>1.0</td>\n",
       "    </tr>\n",
       "    <tr>\n",
       "      <th>3</th>\n",
       "      <td>0.0</td>\n",
       "      <td>4</td>\n",
       "      <td>-4</td>\n",
       "      <td>1.0</td>\n",
       "    </tr>\n",
       "    <tr>\n",
       "      <th>4</th>\n",
       "      <td>0.0</td>\n",
       "      <td>5</td>\n",
       "      <td>-5</td>\n",
       "      <td>1.0</td>\n",
       "    </tr>\n",
       "    <tr>\n",
       "      <th>...</th>\n",
       "      <td>...</td>\n",
       "      <td>...</td>\n",
       "      <td>...</td>\n",
       "      <td>...</td>\n",
       "    </tr>\n",
       "    <tr>\n",
       "      <th>14</th>\n",
       "      <td>0.0</td>\n",
       "      <td>15</td>\n",
       "      <td>-15</td>\n",
       "      <td>1.0</td>\n",
       "    </tr>\n",
       "    <tr>\n",
       "      <th>15</th>\n",
       "      <td>0.0</td>\n",
       "      <td>16</td>\n",
       "      <td>-16</td>\n",
       "      <td>1.0</td>\n",
       "    </tr>\n",
       "    <tr>\n",
       "      <th>16</th>\n",
       "      <td>0.0</td>\n",
       "      <td>17</td>\n",
       "      <td>-17</td>\n",
       "      <td>1.0</td>\n",
       "    </tr>\n",
       "    <tr>\n",
       "      <th>17</th>\n",
       "      <td>0.0</td>\n",
       "      <td>18</td>\n",
       "      <td>-18</td>\n",
       "      <td>1.0</td>\n",
       "    </tr>\n",
       "    <tr>\n",
       "      <th>18</th>\n",
       "      <td>0.0</td>\n",
       "      <td>19</td>\n",
       "      <td>-19</td>\n",
       "      <td>1.0</td>\n",
       "    </tr>\n",
       "  </tbody>\n",
       "</table>\n",
       "<p>19 rows × 4 columns</p>\n",
       "</div>"
      ],
      "text/plain": [
       "    CV accuracy   k  -k  CV Error\n",
       "0           0.0   1  -1       1.0\n",
       "1           0.0   2  -2       1.0\n",
       "2           0.0   3  -3       1.0\n",
       "3           0.0   4  -4       1.0\n",
       "4           0.0   5  -5       1.0\n",
       "..          ...  ..  ..       ...\n",
       "14          0.0  15 -15       1.0\n",
       "15          0.0  16 -16       1.0\n",
       "16          0.0  17 -17       1.0\n",
       "17          0.0  18 -18       1.0\n",
       "18          0.0  19 -19       1.0\n",
       "\n",
       "[19 rows x 4 columns]"
      ]
     },
     "execution_count": 222,
     "metadata": {},
     "output_type": "execute_result"
    }
   ],
   "source": [
    "gridsearch_output"
   ]
  },
  {
   "cell_type": "code",
   "execution_count": 223,
   "metadata": {},
   "outputs": [
    {
     "data": {
      "text/html": [
       "<div>\n",
       "<style scoped>\n",
       "    .dataframe tbody tr th:only-of-type {\n",
       "        vertical-align: middle;\n",
       "    }\n",
       "\n",
       "    .dataframe tbody tr th {\n",
       "        vertical-align: top;\n",
       "    }\n",
       "\n",
       "    .dataframe thead th {\n",
       "        text-align: right;\n",
       "    }\n",
       "</style>\n",
       "<table border=\"1\" class=\"dataframe\">\n",
       "  <thead>\n",
       "    <tr style=\"text-align: right;\">\n",
       "      <th></th>\n",
       "      <th>k_x</th>\n",
       "      <th>Training Error</th>\n",
       "      <th>-k</th>\n",
       "      <th>CV accuracy</th>\n",
       "      <th>k_y</th>\n",
       "      <th>CV Error</th>\n",
       "    </tr>\n",
       "  </thead>\n",
       "  <tbody>\n",
       "    <tr>\n",
       "      <th>0</th>\n",
       "      <td>1</td>\n",
       "      <td>0.000000</td>\n",
       "      <td>-1</td>\n",
       "      <td>0.0</td>\n",
       "      <td>1</td>\n",
       "      <td>1.0</td>\n",
       "    </tr>\n",
       "    <tr>\n",
       "      <th>1</th>\n",
       "      <td>2</td>\n",
       "      <td>0.533333</td>\n",
       "      <td>-2</td>\n",
       "      <td>0.0</td>\n",
       "      <td>2</td>\n",
       "      <td>1.0</td>\n",
       "    </tr>\n",
       "    <tr>\n",
       "      <th>2</th>\n",
       "      <td>3</td>\n",
       "      <td>0.683333</td>\n",
       "      <td>-3</td>\n",
       "      <td>0.0</td>\n",
       "      <td>3</td>\n",
       "      <td>1.0</td>\n",
       "    </tr>\n",
       "    <tr>\n",
       "      <th>3</th>\n",
       "      <td>4</td>\n",
       "      <td>0.750000</td>\n",
       "      <td>-4</td>\n",
       "      <td>0.0</td>\n",
       "      <td>4</td>\n",
       "      <td>1.0</td>\n",
       "    </tr>\n",
       "    <tr>\n",
       "      <th>4</th>\n",
       "      <td>5</td>\n",
       "      <td>0.816667</td>\n",
       "      <td>-5</td>\n",
       "      <td>0.0</td>\n",
       "      <td>5</td>\n",
       "      <td>1.0</td>\n",
       "    </tr>\n",
       "    <tr>\n",
       "      <th>...</th>\n",
       "      <td>...</td>\n",
       "      <td>...</td>\n",
       "      <td>...</td>\n",
       "      <td>...</td>\n",
       "      <td>...</td>\n",
       "      <td>...</td>\n",
       "    </tr>\n",
       "    <tr>\n",
       "      <th>14</th>\n",
       "      <td>15</td>\n",
       "      <td>0.983333</td>\n",
       "      <td>-15</td>\n",
       "      <td>0.0</td>\n",
       "      <td>15</td>\n",
       "      <td>1.0</td>\n",
       "    </tr>\n",
       "    <tr>\n",
       "      <th>15</th>\n",
       "      <td>16</td>\n",
       "      <td>0.983333</td>\n",
       "      <td>-16</td>\n",
       "      <td>0.0</td>\n",
       "      <td>16</td>\n",
       "      <td>1.0</td>\n",
       "    </tr>\n",
       "    <tr>\n",
       "      <th>16</th>\n",
       "      <td>17</td>\n",
       "      <td>0.983333</td>\n",
       "      <td>-17</td>\n",
       "      <td>0.0</td>\n",
       "      <td>17</td>\n",
       "      <td>1.0</td>\n",
       "    </tr>\n",
       "    <tr>\n",
       "      <th>17</th>\n",
       "      <td>18</td>\n",
       "      <td>0.983333</td>\n",
       "      <td>-18</td>\n",
       "      <td>0.0</td>\n",
       "      <td>18</td>\n",
       "      <td>1.0</td>\n",
       "    </tr>\n",
       "    <tr>\n",
       "      <th>18</th>\n",
       "      <td>19</td>\n",
       "      <td>0.983333</td>\n",
       "      <td>-19</td>\n",
       "      <td>0.0</td>\n",
       "      <td>19</td>\n",
       "      <td>1.0</td>\n",
       "    </tr>\n",
       "  </tbody>\n",
       "</table>\n",
       "<p>19 rows × 6 columns</p>\n",
       "</div>"
      ],
      "text/plain": [
       "    k_x  Training Error  -k  CV accuracy  k_y  CV Error\n",
       "0     1        0.000000  -1          0.0    1       1.0\n",
       "1     2        0.533333  -2          0.0    2       1.0\n",
       "2     3        0.683333  -3          0.0    3       1.0\n",
       "3     4        0.750000  -4          0.0    4       1.0\n",
       "4     5        0.816667  -5          0.0    5       1.0\n",
       "..  ...             ...  ..          ...  ...       ...\n",
       "14   15        0.983333 -15          0.0   15       1.0\n",
       "15   16        0.983333 -16          0.0   16       1.0\n",
       "16   17        0.983333 -17          0.0   17       1.0\n",
       "17   18        0.983333 -18          0.0   18       1.0\n",
       "18   19        0.983333 -19          0.0   19       1.0\n",
       "\n",
       "[19 rows x 6 columns]"
      ]
     },
     "execution_count": 223,
     "metadata": {},
     "output_type": "execute_result"
    }
   ],
   "source": [
    "both_training_and_CV_errors = pd.merge(errors_and_ks.rename(columns = {\"Misclassification Rate\": \"Training Error\"}),\n",
    "         gridsearch_output,\n",
    "         left_on = \"-k\",\n",
    "         right_on = \"-k\",\n",
    "         how = \"inner\")\n",
    "both_training_and_CV_errors"
   ]
  },
  {
   "cell_type": "code",
   "execution_count": 224,
   "metadata": {},
   "outputs": [
    {
     "data": {
      "text/plain": [
       "0     1.0\n",
       "1     1.0\n",
       "2     1.0\n",
       "3     1.0\n",
       "4     1.0\n",
       "     ... \n",
       "14    1.0\n",
       "15    1.0\n",
       "16    1.0\n",
       "17    1.0\n",
       "18    1.0\n",
       "Name: CV Error, Length: 19, dtype: float64"
      ]
     },
     "execution_count": 224,
     "metadata": {},
     "output_type": "execute_result"
    }
   ],
   "source": [
    "both_training_and_CV_errors[\"CV Error\"]"
   ]
  },
  {
   "cell_type": "code",
   "execution_count": 225,
   "metadata": {},
   "outputs": [
    {
     "data": {
      "image/png": "[encoded data removed]",
      "text/plain": [
       "<Figure size 1000x600 with 1 Axes>"
      ]
     },
     "metadata": {},
     "output_type": "display_data"
    }
   ],
   "source": [
    "fig, ax = plt.subplots(figsize=(10, 6))\n",
    "ax.plot(both_training_and_CV_errors['-k'], both_training_and_CV_errors['Training Error'], marker='o', label='Training Error')\n",
    "ax.plot(both_training_and_CV_errors['-k'], both_training_and_CV_errors['CV Error'], marker='o', label='CV Error')\n",
    "\n",
    "# Customize the plot\n",
    "ax.set_title('Training and CV Error vs. Negative Number of Neighbors (-k)')\n",
    "ax.set_xlabel('Negative Number of Neighbors (-k)')\n",
    "ax.set_ylabel('Error')\n",
    "ax.grid(True)\n",
    "ax.legend(title='', loc='lower left', bbox_to_anchor=(0.05, 0.05), borderaxespad=0., edgecolor='black', frameon=True)\n",
    "\n",
    "# Show the plot\n",
    "plt.tight_layout()\n",
    "plt.show()"
   ]
  },
  {
   "cell_type": "code",
   "execution_count": null,
   "metadata": {},
   "outputs": [],
   "source": []
  },
  {
   "cell_type": "code",
   "execution_count": null,
   "metadata": {},
   "outputs": [],
   "source": []
  },
  {
   "cell_type": "code",
   "execution_count": null,
   "metadata": {},
   "outputs": [],
   "source": []
  }
 ],
 "metadata": {
  "kernelspec": {
   "display_name": "Python 3 (ipykernel)",
   "language": "python",
   "name": "python3"
  },
  "language_info": {
   "codemirror_mode": {
    "name": "ipython",
    "version": 3
   },
   "file_extension": ".py",
   "mimetype": "text/x-python",
   "name": "python",
   "nbconvert_exporter": "python",
   "pygments_lexer": "ipython3",
   "version": "3.11.7"
  }
 },
 "nbformat": 4,
 "nbformat_minor": 4
}
