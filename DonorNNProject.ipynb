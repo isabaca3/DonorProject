{
 "cells": [
  {
   "cell_type": "markdown",
   "metadata": {
    "nbgrader": {
     "grade": false,
     "grade_id": "cell-ed94fd4106239c7d",
     "locked": true,
     "schema_version": 3,
     "solution": false,
     "task": false
    }
   },
   "source": [
    "### Donor Neural Network Model\n",
    "\n",
    "**Predicitng the Number of Donors** \n",
    "\n",
    "**I want to analyze  various features to determine their impact on donor numbers** \n",
    "\n",
    "By developing a nueral network model to predict donation amounts based on a variety of features we can leverage different regression techniques and understand the factors that influence donor behavior and improve our predictive accuracy.###\n",
    "\n"
   ]
  },
  {
   "cell_type": "code",
   "execution_count": 27,
   "metadata": {},
   "outputs": [],
   "source": [
    "import numpy as np\n",
    "import pandas as pd\n",
    "import matplotlib.pyplot as plt\n",
    "\n",
    "import tensorflow as tf\n",
    "from tensorflow.keras import layers\n",
    "from tensorflow.keras.layers import Dense\n",
    "from tensorflow.keras.models import Sequential\n"
   ]
  },
  {
   "cell_type": "code",
   "execution_count": 28,
   "metadata": {},
   "outputs": [],
   "source": [
    "from sklearn.linear_model import LinearRegression\n",
    "from sklearn.preprocessing import StandardScaler\n",
    "from sklearn.utils import shuffle\n",
    "\n",
    "import warnings"
   ]
  },
  {
   "cell_type": "markdown",
   "metadata": {
    "nbgrader": {
     "grade": false,
     "grade_id": "cell-e47c46a018b4e2b6",
     "locked": true,
     "schema_version": 3,
     "solution": false,
     "task": false
    }
   },
   "source": [
    "#### The Data\n",
    "\n",
    "The dataset contains information on organizatinal, national, and state level data and the corresponding donor values. For more info, see the readme file"
   ]
  },
  {
   "cell_type": "code",
   "execution_count": 13,
   "metadata": {},
   "outputs": [],
   "source": [
    "file_path = r'C:\\Users\\ibaca\\DonorByMonth.csv'\n",
    "df = pd.read_csv(file_path)"
   ]
  },
  {
   "cell_type": "code",
   "execution_count": 14,
   "metadata": {},
   "outputs": [
    {
     "data": {
      "text/html": [
       "<div>\n",
       "<style scoped>\n",
       "    .dataframe tbody tr th:only-of-type {\n",
       "        vertical-align: middle;\n",
       "    }\n",
       "\n",
       "    .dataframe tbody tr th {\n",
       "        vertical-align: top;\n",
       "    }\n",
       "\n",
       "    .dataframe thead th {\n",
       "        text-align: right;\n",
       "    }\n",
       "</style>\n",
       "<table border=\"1\" class=\"dataframe\">\n",
       "  <thead>\n",
       "    <tr style=\"text-align: right;\">\n",
       "      <th></th>\n",
       "      <th>Date</th>\n",
       "      <th>Donors</th>\n",
       "      <th>AvgTemp</th>\n",
       "      <th>CPI</th>\n",
       "      <th>Budget</th>\n",
       "      <th>Sales</th>\n",
       "      <th>NewResidentialConstruction(Thousands)</th>\n",
       "      <th>HousingUnitPermits(Thousands)</th>\n",
       "      <th>HousingUnits</th>\n",
       "      <th>Adjusted Sales</th>\n",
       "      <th>AverageContrusctionHoursWorked</th>\n",
       "      <th>NewHomeSales(Thousands)</th>\n",
       "      <th>NewHomeSales</th>\n",
       "      <th>AdjustedDonors</th>\n",
       "    </tr>\n",
       "  </thead>\n",
       "  <tbody>\n",
       "    <tr>\n",
       "      <th>0</th>\n",
       "      <td>1/1/2019</td>\n",
       "      <td>34698</td>\n",
       "      <td>35.9</td>\n",
       "      <td>251.712</td>\n",
       "      <td>1292132</td>\n",
       "      <td>1557361</td>\n",
       "      <td>1,261</td>\n",
       "      <td>87.0</td>\n",
       "      <td>87000</td>\n",
       "      <td>1557361</td>\n",
       "      <td>39.7</td>\n",
       "      <td>49</td>\n",
       "      <td>49000</td>\n",
       "      <td>34698</td>\n",
       "    </tr>\n",
       "    <tr>\n",
       "      <th>1</th>\n",
       "      <td>2/1/2019</td>\n",
       "      <td>27533</td>\n",
       "      <td>39.9</td>\n",
       "      <td>252.776</td>\n",
       "      <td>1271468</td>\n",
       "      <td>1432247</td>\n",
       "      <td>1,287</td>\n",
       "      <td>80.0</td>\n",
       "      <td>80000</td>\n",
       "      <td>1432247</td>\n",
       "      <td>38.6</td>\n",
       "      <td>57</td>\n",
       "      <td>57000</td>\n",
       "      <td>27533</td>\n",
       "    </tr>\n",
       "    <tr>\n",
       "      <th>2</th>\n",
       "      <td>3/1/2019</td>\n",
       "      <td>36468</td>\n",
       "      <td>50.2</td>\n",
       "      <td>254.202</td>\n",
       "      <td>1421717</td>\n",
       "      <td>1667795</td>\n",
       "      <td>1,305</td>\n",
       "      <td>98.2</td>\n",
       "      <td>98200</td>\n",
       "      <td>1667795</td>\n",
       "      <td>39.3</td>\n",
       "      <td>68</td>\n",
       "      <td>68000</td>\n",
       "      <td>36468</td>\n",
       "    </tr>\n",
       "    <tr>\n",
       "      <th>3</th>\n",
       "      <td>4/1/2019</td>\n",
       "      <td>32788</td>\n",
       "      <td>57.4</td>\n",
       "      <td>255.548</td>\n",
       "      <td>1348579</td>\n",
       "      <td>1530041</td>\n",
       "      <td>1,311</td>\n",
       "      <td>116.6</td>\n",
       "      <td>116600</td>\n",
       "      <td>1530041</td>\n",
       "      <td>39.0</td>\n",
       "      <td>64</td>\n",
       "      <td>64000</td>\n",
       "      <td>32788</td>\n",
       "    </tr>\n",
       "    <tr>\n",
       "      <th>4</th>\n",
       "      <td>5/1/2019</td>\n",
       "      <td>39674</td>\n",
       "      <td>61.6</td>\n",
       "      <td>256.092</td>\n",
       "      <td>1336206</td>\n",
       "      <td>1589136</td>\n",
       "      <td>1,347</td>\n",
       "      <td>118.1</td>\n",
       "      <td>118100</td>\n",
       "      <td>1589136</td>\n",
       "      <td>39.1</td>\n",
       "      <td>56</td>\n",
       "      <td>56000</td>\n",
       "      <td>39674</td>\n",
       "    </tr>\n",
       "  </tbody>\n",
       "</table>\n",
       "</div>"
      ],
      "text/plain": [
       "       Date  Donors  AvgTemp      CPI   Budget    Sales  \\\n",
       "0  1/1/2019   34698     35.9  251.712  1292132  1557361   \n",
       "1  2/1/2019   27533     39.9  252.776  1271468  1432247   \n",
       "2  3/1/2019   36468     50.2  254.202  1421717  1667795   \n",
       "3  4/1/2019   32788     57.4  255.548  1348579  1530041   \n",
       "4  5/1/2019   39674     61.6  256.092  1336206  1589136   \n",
       "\n",
       "  NewResidentialConstruction(Thousands)  HousingUnitPermits(Thousands)  \\\n",
       "0                                 1,261                           87.0   \n",
       "1                                 1,287                           80.0   \n",
       "2                                 1,305                           98.2   \n",
       "3                                 1,311                          116.6   \n",
       "4                                 1,347                          118.1   \n",
       "\n",
       "   HousingUnits  Adjusted Sales  AverageContrusctionHoursWorked  \\\n",
       "0         87000         1557361                            39.7   \n",
       "1         80000         1432247                            38.6   \n",
       "2         98200         1667795                            39.3   \n",
       "3        116600         1530041                            39.0   \n",
       "4        118100         1589136                            39.1   \n",
       "\n",
       "   NewHomeSales(Thousands)  NewHomeSales  AdjustedDonors  \n",
       "0                       49         49000           34698  \n",
       "1                       57         57000           27533  \n",
       "2                       68         68000           36468  \n",
       "3                       64         64000           32788  \n",
       "4                       56         56000           39674  "
      ]
     },
     "execution_count": 14,
     "metadata": {},
     "output_type": "execute_result"
    }
   ],
   "source": [
    "df.head()"
   ]
  },
  {
   "cell_type": "code",
   "execution_count": 15,
   "metadata": {},
   "outputs": [
    {
     "data": {
      "text/html": [
       "<div>\n",
       "<style scoped>\n",
       "    .dataframe tbody tr th:only-of-type {\n",
       "        vertical-align: middle;\n",
       "    }\n",
       "\n",
       "    .dataframe tbody tr th {\n",
       "        vertical-align: top;\n",
       "    }\n",
       "\n",
       "    .dataframe thead th {\n",
       "        text-align: right;\n",
       "    }\n",
       "</style>\n",
       "<table border=\"1\" class=\"dataframe\">\n",
       "  <thead>\n",
       "    <tr style=\"text-align: right;\">\n",
       "      <th></th>\n",
       "      <th>Donors</th>\n",
       "      <th>AvgTemp</th>\n",
       "      <th>CPI</th>\n",
       "      <th>Budget</th>\n",
       "      <th>Sales</th>\n",
       "      <th>NewResidentialConstruction(Thousands)</th>\n",
       "      <th>HousingUnitPermits(Thousands)</th>\n",
       "      <th>HousingUnits</th>\n",
       "      <th>Adjusted Sales</th>\n",
       "      <th>AverageContrusctionHoursWorked</th>\n",
       "      <th>NewHomeSales(Thousands)</th>\n",
       "      <th>NewHomeSales</th>\n",
       "      <th>AdjustedDonors</th>\n",
       "    </tr>\n",
       "  </thead>\n",
       "  <tbody>\n",
       "    <tr>\n",
       "      <th>0</th>\n",
       "      <td>34698</td>\n",
       "      <td>35.9</td>\n",
       "      <td>251.712</td>\n",
       "      <td>1292132</td>\n",
       "      <td>1557361</td>\n",
       "      <td>1,261</td>\n",
       "      <td>87.0</td>\n",
       "      <td>87000</td>\n",
       "      <td>1557361</td>\n",
       "      <td>39.7</td>\n",
       "      <td>49</td>\n",
       "      <td>49000</td>\n",
       "      <td>34698</td>\n",
       "    </tr>\n",
       "    <tr>\n",
       "      <th>1</th>\n",
       "      <td>27533</td>\n",
       "      <td>39.9</td>\n",
       "      <td>252.776</td>\n",
       "      <td>1271468</td>\n",
       "      <td>1432247</td>\n",
       "      <td>1,287</td>\n",
       "      <td>80.0</td>\n",
       "      <td>80000</td>\n",
       "      <td>1432247</td>\n",
       "      <td>38.6</td>\n",
       "      <td>57</td>\n",
       "      <td>57000</td>\n",
       "      <td>27533</td>\n",
       "    </tr>\n",
       "    <tr>\n",
       "      <th>2</th>\n",
       "      <td>36468</td>\n",
       "      <td>50.2</td>\n",
       "      <td>254.202</td>\n",
       "      <td>1421717</td>\n",
       "      <td>1667795</td>\n",
       "      <td>1,305</td>\n",
       "      <td>98.2</td>\n",
       "      <td>98200</td>\n",
       "      <td>1667795</td>\n",
       "      <td>39.3</td>\n",
       "      <td>68</td>\n",
       "      <td>68000</td>\n",
       "      <td>36468</td>\n",
       "    </tr>\n",
       "    <tr>\n",
       "      <th>3</th>\n",
       "      <td>32788</td>\n",
       "      <td>57.4</td>\n",
       "      <td>255.548</td>\n",
       "      <td>1348579</td>\n",
       "      <td>1530041</td>\n",
       "      <td>1,311</td>\n",
       "      <td>116.6</td>\n",
       "      <td>116600</td>\n",
       "      <td>1530041</td>\n",
       "      <td>39.0</td>\n",
       "      <td>64</td>\n",
       "      <td>64000</td>\n",
       "      <td>32788</td>\n",
       "    </tr>\n",
       "    <tr>\n",
       "      <th>4</th>\n",
       "      <td>39674</td>\n",
       "      <td>61.6</td>\n",
       "      <td>256.092</td>\n",
       "      <td>1336206</td>\n",
       "      <td>1589136</td>\n",
       "      <td>1,347</td>\n",
       "      <td>118.1</td>\n",
       "      <td>118100</td>\n",
       "      <td>1589136</td>\n",
       "      <td>39.1</td>\n",
       "      <td>56</td>\n",
       "      <td>56000</td>\n",
       "      <td>39674</td>\n",
       "    </tr>\n",
       "  </tbody>\n",
       "</table>\n",
       "</div>"
      ],
      "text/plain": [
       "   Donors  AvgTemp      CPI   Budget    Sales  \\\n",
       "0   34698     35.9  251.712  1292132  1557361   \n",
       "1   27533     39.9  252.776  1271468  1432247   \n",
       "2   36468     50.2  254.202  1421717  1667795   \n",
       "3   32788     57.4  255.548  1348579  1530041   \n",
       "4   39674     61.6  256.092  1336206  1589136   \n",
       "\n",
       "  NewResidentialConstruction(Thousands)  HousingUnitPermits(Thousands)  \\\n",
       "0                                 1,261                           87.0   \n",
       "1                                 1,287                           80.0   \n",
       "2                                 1,305                           98.2   \n",
       "3                                 1,311                          116.6   \n",
       "4                                 1,347                          118.1   \n",
       "\n",
       "   HousingUnits  Adjusted Sales  AverageContrusctionHoursWorked  \\\n",
       "0         87000         1557361                            39.7   \n",
       "1         80000         1432247                            38.6   \n",
       "2         98200         1667795                            39.3   \n",
       "3        116600         1530041                            39.0   \n",
       "4        118100         1589136                            39.1   \n",
       "\n",
       "   NewHomeSales(Thousands)  NewHomeSales  AdjustedDonors  \n",
       "0                       49         49000           34698  \n",
       "1                       57         57000           27533  \n",
       "2                       68         68000           36468  \n",
       "3                       64         64000           32788  \n",
       "4                       56         56000           39674  "
      ]
     },
     "execution_count": 15,
     "metadata": {},
     "output_type": "execute_result"
    }
   ],
   "source": [
    "df = df.drop(columns=['Date'])\n",
    "df.head()"
   ]
  },
  {
   "cell_type": "code",
   "execution_count": 16,
   "metadata": {},
   "outputs": [],
   "source": [
    "##Supress \"FutureWarnings\"\n",
    "warnings.filterwarnings(\"ignore\", category=FutureWarning)\n",
    "\n",
    "#Remove  the comma in the dataframe\n",
    "df['NewResidentialConstruction(Thousands)'] = df['NewResidentialConstruction(Thousands)'].str.replace(',', '').astype(float)\n",
    "\n",
    "#Shuffle the dataset because it as originally chronilogical\n",
    "\n",
    "df = shuffle(df)\n",
    "\n",
    "#Split dataset into training and dev sets\n",
    "training_set, dev_set = np.split(df,[40])\n",
    "\n",
    "\n"
   ]
  },
  {
   "cell_type": "code",
   "execution_count": 17,
   "metadata": {},
   "outputs": [],
   "source": [
    "#Identifying the features and targets of the train and dev sets\n",
    "\n",
    "training_features = training_set.iloc[:, :-1]\n",
    "training_target = training_set[\"AdjustedDonors\"]\n",
    "\n",
    "dev_features = dev_set.iloc[:, :-1]\n",
    "dev_target = dev_set[\"AdjustedDonors\"]\n",
    "\n"
   ]
  },
  {
   "cell_type": "code",
   "execution_count": null,
   "metadata": {},
   "outputs": [],
   "source": []
  },
  {
   "cell_type": "code",
   "execution_count": 20,
   "metadata": {
    "nbgrader": {
     "grade": false,
     "grade_id": "cell-436c74b485c1d20e",
     "locked": false,
     "schema_version": 3,
     "solution": true,
     "task": false
    }
   },
   "outputs": [],
   "source": [
    "##First define the Neural Network\n",
    "donor_model = tf.keras.Sequential([\n",
    "    layers.Dense(12, activation=\"relu\"),\n",
    "    layers.Dense(64, activation=\"relu\"),\n",
    "    layers.Dense(12, activation=\"relu\"),\n",
    "    layers.Dense(12, activation=\"relu\"),\n",
    "    layers.Dense(1, activation=None),\n",
    "])\n",
    "\n",
    "##Complie the Network\n",
    "donor_model.compile(optimizer=\"rmsprop\",\n",
    "                    loss=\"mse\", metrics=[\"mae\"])\n",
    "##Train the NN Model\n",
    "donor_model_history= donor_model.fit(training_features, training_target,\n",
    "    epochs = 500, verbose = 0,\n",
    "    validation_data= (dev_features, dev_target))                                 \n",
    "    "
   ]
  },
  {
   "cell_type": "code",
   "execution_count": 25,
   "metadata": {},
   "outputs": [
    {
     "name": "stdout",
     "output_type": "stream",
     "text": [
      "Mean Squared Error: 17706044.0\n",
      "Mean Absolute Error: 3367.350830078125\n"
     ]
    }
   ],
   "source": [
    "mse, mae = donor_model.evaluate(dev_features, dev_target, verbose=0)\n",
    "\n",
    "print(f\"Mean Squared Error: {mse}\")\n",
    "print(f\"Mean Absolute Error: {mae}\")"
   ]
  },
  {
   "cell_type": "markdown",
   "metadata": {},
   "source": [
    "## For a quick and easy visual explanation visit\n",
    "https://playground.tensorflow.org/#activation=relu&batchSize=10&dataset=xor&regDataset=reg-plane&learningRate=0.03&regularizationRate=0&noise=20&networkShape=4,2&seed=0.37074&showTestData=false&discretize=false&percTrainData=50&x=true&y=true&xTimesY=false&xSquared=false&ySquared=false&cosX=false&sinX=false&cosY=false&sinY=false&collectStats=false&problem=classification&initZero=false&hideText=false"
   ]
  },
  {
   "cell_type": "code",
   "execution_count": 21,
   "metadata": {
    "nbgrader": {
     "grade": true,
     "grade_id": "cell-9a3acc73d1148f81",
     "locked": true,
     "points": 10,
     "schema_version": 3,
     "solution": false,
     "task": false
    }
   },
   "outputs": [
    {
     "data": {
      "image/png": "[encoded data removed]",
      "text/plain": [
       "<Figure size 640x480 with 1 Axes>"
      ]
     },
     "metadata": {},
     "output_type": "display_data"
    },
    {
     "data": {
      "image/png": "[encoded data removed]",
      "text/plain": [
       "<Figure size 640x480 with 1 Axes>"
      ]
     },
     "metadata": {},
     "output_type": "display_data"
    }
   ],
   "source": [
    "##Visualizze the output\n",
    "import matplotlib.pyplot as plt\n",
    "\n",
    "# Plot the training and validation loss\n",
    "plt.plot(donor_model_history.history['loss'], label='Training Loss')\n",
    "plt.plot(donor_model_history.history['val_loss'], label='Validation Loss')\n",
    "plt.xlabel('Epochs')\n",
    "plt.ylabel('Loss')\n",
    "plt.title('Training and Validation Loss')\n",
    "plt.legend()\n",
    "plt.show()\n",
    "\n",
    "# Plot the training and validation MAE\n",
    "plt.plot(donor_model_history.history['mae'], label='Training MAE')\n",
    "plt.plot(donor_model_history.history['val_mae'], label='Validation MAE')\n",
    "plt.xlabel('Epochs')\n",
    "plt.ylabel('MAE')\n",
    "plt.title('Training and Validation MAE')\n",
    "plt.legend()\n",
    "plt.show()"
   ]
  },
  {
   "cell_type": "markdown",
   "metadata": {},
   "source": [
    "## Note:\n",
    "Loss is a general term for the error measure used during training, while MAE is a specific type of loss that gives you an average of how far off your predictions are from the actual values. Both are used to evaluate and improve your model’s performance"
   ]
  },
  {
   "cell_type": "markdown",
   "metadata": {
    "nbgrader": {
     "grade": false,
     "grade_id": "cell-de5f72acc610ccfb",
     "locked": true,
     "schema_version": 3,
     "solution": false,
     "task": false
    }
   },
   "source": [
    "#### Comparing to `LinearRegression`\n",
    "\n",
    "Compare the performance of the model in terms of mean squared error with that of a `LinearRegression` model on the full dataset `X`, `y`. Assign your result to the variable `lr`.\n",
    "\n",
    "Finally, use the function `mean_squared_error` with arguments equal to `y` and `lr.predict(X)` to compute your error. Assign the result to the variable `lr_mse`."
   ]
  },
  {
   "cell_type": "code",
   "execution_count": 23,
   "metadata": {},
   "outputs": [],
   "source": [
    "from sklearn.metrics import mean_squared_error"
   ]
  },
  {
   "cell_type": "code",
   "execution_count": 24,
   "metadata": {
    "nbgrader": {
     "grade": false,
     "grade_id": "cell-14035e9252389a2f",
     "locked": false,
     "schema_version": 3,
     "solution": true,
     "task": false
    }
   },
   "outputs": [
    {
     "name": "stdout",
     "output_type": "stream",
     "text": [
      "4197478.271016857\n"
     ]
    }
   ],
   "source": [
    "\n",
    "lr = LinearRegression().fit(training_features, training_target)\n",
    "lr_mse = mean_squared_error(training_target, lr.predict(training_features))\n",
    "### END SOLUTION\n",
    "\n",
    "### ANSWER CHECK\n",
    "print(lr_mse)"
   ]
  },
  {
   "cell_type": "code",
   "execution_count": 17,
   "metadata": {
    "nbgrader": {
     "grade": true,
     "grade_id": "cell-c772c780dd950207",
     "locked": true,
     "points": 10,
     "schema_version": 3,
     "solution": false,
     "task": false
    }
   },
   "outputs": [],
   "source": [
    "### BEGIN HIDDEN TESTS\n",
    "lr_ = LinearRegression().fit(X, y)\n",
    "lr_mse_ = mean_squared_error(y, lr_.predict(X))\n",
    "#\n",
    "#\n",
    "#\n",
    "assert lr_mse == lr_mse_\n",
    "### END HIDDEN TESTS"
   ]
  }
 ],
 "metadata": {
  "celltoolbar": "Create Assignment",
  "kernelspec": {
   "display_name": "Python 3 (ipykernel)",
   "language": "python",
   "name": "python3"
  },
  "language_info": {
   "codemirror_mode": {
    "name": "ipython",
    "version": 3
   },
   "file_extension": ".py",
   "mimetype": "text/x-python",
   "name": "python",
   "nbconvert_exporter": "python",
   "pygments_lexer": "ipython3",
   "version": "3.11.7"
  },
  "widgets": {
   "application/vnd.jupyter.widget-state+json": {
    "state": {},
    "version_major": 2,
    "version_minor": 0
   }
  }
 },
 "nbformat": 4,
 "nbformat_minor": 4
}
